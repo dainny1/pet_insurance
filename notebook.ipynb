{
 "cells": [
  {
   "cell_type": "code",
   "execution_count": 1,
   "metadata": {},
   "outputs": [],
   "source": [
    "import pandas as pd\n",
    "import numpy as np\n",
    "import matplotlib.pyplot as plt\n",
    "import seaborn as sns\n",
    "import os\n",
    "from myfunk import *\n",
    "%matplotlib inline\n",
    "import warnings\n",
    "warnings.filterwarnings('ignore')"
   ]
  },
  {
   "cell_type": "code",
   "execution_count": 2,
   "metadata": {},
   "outputs": [
    {
     "data": {
      "text/plain": [
       "'/Users/iZbra1/Documents/K2DS/Projects/Trupanion'"
      ]
     },
     "execution_count": 2,
     "metadata": {},
     "output_type": "execute_result"
    }
   ],
   "source": [
    "path = os.getcwd()\n",
    "path"
   ]
  },
  {
   "cell_type": "code",
   "execution_count": 3,
   "metadata": {},
   "outputs": [
    {
     "name": "stdout",
     "output_type": "stream",
     "text": [
      "<class 'pandas.core.frame.DataFrame'>\n",
      "Int64Index: 11000 entries, 1 to 11000\n",
      "Data columns (total 3 columns):\n",
      "ItemDescription    11000 non-null object\n",
      "Diagnosis          11000 non-null object\n",
      "PreventiveFlag     10000 non-null float64\n",
      "dtypes: float64(1), object(2)\n",
      "memory usage: 343.8+ KB\n",
      "None\n",
      "\n",
      "Data has 2266 unique Diagnosis\n",
      "Data has 10475 unique ItemDescriptions\n",
      "Data has 3 unique PreventiveFlags:[ 0.  1. nan] \n",
      " 0.0    9322\n",
      "1.0     678\n",
      "Name: PreventiveFlag, dtype: int64\n",
      "Data has 1000 null PreventiveFlags\n",
      "\n",
      "(10000, 3)\n"
     ]
    },
    {
     "data": {
      "text/html": [
       "<div>\n",
       "<style scoped>\n",
       "    .dataframe tbody tr th:only-of-type {\n",
       "        vertical-align: middle;\n",
       "    }\n",
       "\n",
       "    .dataframe tbody tr th {\n",
       "        vertical-align: top;\n",
       "    }\n",
       "\n",
       "    .dataframe thead th {\n",
       "        text-align: right;\n",
       "    }\n",
       "</style>\n",
       "<table border=\"1\" class=\"dataframe\">\n",
       "  <thead>\n",
       "    <tr style=\"text-align: right;\">\n",
       "      <th></th>\n",
       "      <th>ItemDescription</th>\n",
       "      <th>Diagnosis</th>\n",
       "      <th>PreventiveFlag</th>\n",
       "    </tr>\n",
       "    <tr>\n",
       "      <th>id</th>\n",
       "      <th></th>\n",
       "      <th></th>\n",
       "      <th></th>\n",
       "    </tr>\n",
       "  </thead>\n",
       "  <tbody>\n",
       "    <tr>\n",
       "      <th>1</th>\n",
       "      <td>Six:  Urgent Care Exam - Daytime (8am-6pm)</td>\n",
       "      <td>colitis</td>\n",
       "      <td>0.0</td>\n",
       "    </tr>\n",
       "    <tr>\n",
       "      <th>2</th>\n",
       "      <td>Jafar:  Office Visit/Physical Exam</td>\n",
       "      <td>Stomach Issues</td>\n",
       "      <td>0.0</td>\n",
       "    </tr>\n",
       "    <tr>\n",
       "      <th>3</th>\n",
       "      <td>Jafar:  Fecal Smears</td>\n",
       "      <td>Stomach Issues</td>\n",
       "      <td>0.0</td>\n",
       "    </tr>\n",
       "    <tr>\n",
       "      <th>4</th>\n",
       "      <td>Jafar:  metronidazole 50mg</td>\n",
       "      <td>Stomach Issues</td>\n",
       "      <td>0.0</td>\n",
       "    </tr>\n",
       "    <tr>\n",
       "      <th>5</th>\n",
       "      <td>Jafar:  Fecal analysis for parasites</td>\n",
       "      <td>Stomach Issues</td>\n",
       "      <td>0.0</td>\n",
       "    </tr>\n",
       "  </tbody>\n",
       "</table>\n",
       "</div>"
      ],
      "text/plain": [
       "                               ItemDescription        Diagnosis  \\\n",
       "id                                                                \n",
       "1   Six:  Urgent Care Exam - Daytime (8am-6pm)         colitis    \n",
       "2           Jafar:  Office Visit/Physical Exam  Stomach Issues    \n",
       "3                        Jafar:  Fecal Smears   Stomach Issues    \n",
       "4                   Jafar:  metronidazole 50mg  Stomach Issues    \n",
       "5         Jafar:  Fecal analysis for parasites  Stomach Issues    \n",
       "\n",
       "    PreventiveFlag  \n",
       "id                  \n",
       "1              0.0  \n",
       "2              0.0  \n",
       "3              0.0  \n",
       "4              0.0  \n",
       "5              0.0  "
      ]
     },
     "execution_count": 3,
     "metadata": {},
     "output_type": "execute_result"
    }
   ],
   "source": [
    "p2data = pd.read_csv(path+'/data/p2_data.csv', index_col = 0, encoding = \"ISO-8859-1\") #simplest text encoding\n",
    "print(p2data.info())\n",
    "print(\"\\nData has {} unique Diagnosis\".format(len(p2data.Diagnosis.unique())))\n",
    "print(\"Data has {} unique ItemDescriptions\".format(len(p2data.ItemDescription.unique())))\n",
    "print(\"Data has {} unique PreventiveFlags:{} \\n {}\".format(len(p2data.PreventiveFlag.unique()),\n",
    "                                                           p2data.PreventiveFlag.unique(), \n",
    "                                                           p2data.PreventiveFlag.value_counts()))\n",
    "print(\"Data has {} null PreventiveFlags\\n\".format(p2data.PreventiveFlag.isnull().sum()))\n",
    "\n",
    "data = p2data.loc[p2data.PreventiveFlag.notnull()]\n",
    "# data = data.sample(frac=0.001)\n",
    "print(data.shape)\n",
    "p2data.head()\n"
   ]
  },
  {
   "cell_type": "markdown",
   "metadata": {},
   "source": [
    "### EDA"
   ]
  },
  {
   "cell_type": "code",
   "execution_count": 8,
   "metadata": {},
   "outputs": [],
   "source": [
    "# Find outliers\n",
    "# \"________\" was found in the itemdescription, didnt got removed"
   ]
  },
  {
   "cell_type": "code",
   "execution_count": 5,
   "metadata": {
    "scrolled": true
   },
   "outputs": [
    {
     "name": "stdout",
     "output_type": "stream",
     "text": [
      "There are 4541 different words, numbers and symbols in the Item Description\n",
      "There are 2029 different words, numbers and symbols in the Diagnosis\n",
      "There are 4505 different words and numbers in the Item Description\n",
      "There are 2006 different words and numbers in the Item Description\n",
      "There are 4372 different lemmas, numbers and symbols in the Item Description\n",
      "There are 1840 different lemmas, numbers and symbols in the Diagnosis\n",
      "There are 4198 different stems & numbers in the Item Description\n",
      "There are 1750 different stems & numbers in the Diagnosis\n",
      "There are 4198 different stems of lemmas & numbers in the Item Description\n",
      "There are 1736 different stems of lemmas & numbers in the Diagnosis\n"
     ]
    }
   ],
   "source": [
    "eda_stemming_lemmatizing(data.ItemDescription.apply(lambda word: text_analysis(word)), \n",
    "                         data.Diagnosis.apply(lambda word: text_analysis(word)))\n"
   ]
  },
  {
   "cell_type": "code",
   "execution_count": 14,
   "metadata": {
    "scrolled": true
   },
   "outputs": [
    {
     "name": "stdout",
     "output_type": "stream",
     "text": [
      "(10000, 3) (1000, 3)\n"
     ]
    }
   ],
   "source": [
    "# Divide training / testing datasets\n",
    "\n",
    "test = p2data.loc[p2data.PreventiveFlag.isnull()]\n",
    "data = p2data.loc[p2data.PreventiveFlag.notnull()]\n",
    "\n",
    "print(data.shape, test.shape)"
   ]
  },
  {
   "cell_type": "code",
   "execution_count": 32,
   "metadata": {},
   "outputs": [],
   "source": [
    "from nltk import word_tokenize, sent_tokenize\n",
    "## ----  Statistics\n",
    "# Length of ItemDescription in number of characters\n",
    "ItemDescription_lengths = [len(item[1].ItemDescription) for item in data.iterrows()]\n",
    "Diagnosis_lengths = [len(item[1].Diagnosis) for item in data.iterrows()]\n",
    "\n",
    "# Distribution of number of sentences in Item Descriptions: \n",
    "sentence_count_per_item = [len(sent_tokenize(item[1].ItemDescription)) for item in data.iterrows()]\n",
    "sentence_count_per_diagnosis = [len(sent_tokenize(item[1].Diagnosis)) for item in data.iterrows()]\n",
    "\n",
    "# Word count in ItemDescription\n",
    "ItemDescription_word_count = [len(word_tokenize(item[1].ItemDescription)) for item in data.iterrows()]\n",
    "Diagnosis_word_count = [len(word_tokenize(item[1].Diagnosis)) for item in data.iterrows()]"
   ]
  },
  {
   "cell_type": "code",
   "execution_count": 55,
   "metadata": {},
   "outputs": [
    {
     "data": {
      "image/png": "[encoded data removed]",
      "text/plain": [
       "<matplotlib.figure.Figure at 0x1a1b899ba8>"
      ]
     },
     "metadata": {},
     "output_type": "display_data"
    },
    {
     "name": "stdout",
     "output_type": "stream",
     "text": [
      "105.96142411231995\n"
     ]
    }
   ],
   "source": [
    "# create 3 subplots (horizontally stacked)    ~ 293 s\n",
    "start = time()\n",
    "f, axarr = plt.subplots(2,3,figsize=(20,8))\n",
    "\n",
    "sns.distplot(ItemDescription_lengths, bins=10, rug=True, ax=axarr[0, 0], label=\"length\")\n",
    "axarr[0, 0].set_title('Char count')\n",
    "sns.distplot(sentence_count_per_item, bins=10, rug=True, ax=axarr[0, 1], label=\"sentence count\")\n",
    "axarr[0, 1].set_title('Sentence count')\n",
    "sns.distplot(ItemDescription_word_count, bins=10, ax=axarr[0,2], rug=True, label=\"word count\")\n",
    "axarr[0,2].set_title('Word count')\n",
    "\n",
    "sns.distplot(Diagnosis_lengths, bins=10, rug=True, ax=axarr[1,0], label=\"length\")\n",
    "axarr[1,0].set_title('Diagnosis Char count')\n",
    "sns.distplot(sentence_count_per_diagnosis, bins=10, rug=True, ax=axarr[1,1], label=\"sentence count\")\n",
    "axarr[1,1].set_title('Diagnosis Sentence count')\n",
    "sns.distplot(Diagnosis_word_count, bins=10, ax=axarr[1,2], rug=True, label=\"word count\")\n",
    "axarr[1,2].set_title('Diagnosis Word count')\n",
    "\n",
    "plt.show()\n",
    "print(time()-start)\n",
    "f.savefig('graphics/dataset_stats.png', dpi=f.dpi)"
   ]
  },
  {
   "cell_type": "code",
   "execution_count": 34,
   "metadata": {},
   "outputs": [],
   "source": [
    "# Lets check the Item description and Diagnosis of instances of class 0\n",
    "c0 = data.loc[data.PreventiveFlag==0.0]\n",
    "# Length in characters\n",
    "c0id_lengths = [len(item[1].ItemDescription) for item in c0.iterrows()]\n",
    "c0d_lengths = [len(item[1].Diagnosis) for item in c0.iterrows()]\n",
    "# Distribution of number of sentences in Item Descriptions: \n",
    "c0id_sentence = [len(sent_tokenize(item[1].ItemDescription)) for item in c0.iterrows()]\n",
    "c0d_sentence = [len(sent_tokenize(item[1].Diagnosis)) for item in c0.iterrows()]\n",
    "# Word count in ItemDescription\n",
    "c0id_word = [len(word_tokenize(item[1].ItemDescription)) for item in c0.iterrows()]\n",
    "c0d_word = [len(word_tokenize(item[1].Diagnosis)) for item in c0.iterrows()]"
   ]
  },
  {
   "cell_type": "code",
   "execution_count": 51,
   "metadata": {},
   "outputs": [
    {
     "data": {
      "image/png": "[encoded data removed]",
      "text/plain": [
       "<matplotlib.figure.Figure at 0x1a1f1887b8>"
      ]
     },
     "metadata": {},
     "output_type": "display_data"
    },
    {
     "name": "stdout",
     "output_type": "stream",
     "text": [
      "581.9781322479248\n"
     ]
    }
   ],
   "source": [
    "# create 3 subplots (horizontally stacked)    ~ 581 s ~ 10 min\n",
    "\n",
    "f, axarr = plt.subplots(2,3,figsize=(20,8))\n",
    "\n",
    "sns.distplot(c0id_lengths, bins=10, rug=True, ax=axarr[0, 0], label=\"length\")\n",
    "axarr[0, 0].set_title('Char count')\n",
    "sns.distplot(c0id_sentence, bins=10, rug=True, ax=axarr[0, 1], label=\"sentence count\")\n",
    "axarr[0, 1].set_title('Sentence count')\n",
    "sns.distplot(c0id_word, bins=10, ax=axarr[0,2], rug=True, label=\"word count\")\n",
    "axarr[0,2].set_title('Word count')\n",
    "\n",
    "sns.distplot(c0d_lengths, bins=10, rug=True, ax=axarr[1,0], label=\"length\")\n",
    "axarr[1,0].set_title('Diagnosis Char count')\n",
    "sns.distplot(c0d_sentence, bins=10, rug=True, ax=axarr[1,1], label=\"sentence count\")\n",
    "axarr[1,1].set_title('Diagnosis Sentence count')\n",
    "sns.distplot(c0d_word, bins=10, ax=axarr[1,2], rug=True, label=\"word count\")\n",
    "axarr[1,2].set_title('Diagnosis Word count')\n",
    "\n",
    "plt.show()\n",
    "\n",
    "f.savefig('graphics/class0_stats.png', dpi=f.dpi)"
   ]
  },
  {
   "cell_type": "markdown",
   "metadata": {},
   "source": [
    "Class 0 Item descritpion fields have a normal like distribution\n",
    "The diagnosis however has a few outliers with a character length exceeding 200 \n",
    "Some with over more than 6 sentences and words above 50 count. "
   ]
  },
  {
   "cell_type": "code",
   "execution_count": 69,
   "metadata": {},
   "outputs": [
    {
     "name": "stdout",
     "output_type": "stream",
     "text": [
      "Average: [34.21046986 23.76003004  1.02145462  1.03722377  6.35153401  3.53883287]\n",
      "Median: [34. 16.  1.  1.  6.  2.]\n"
     ]
    }
   ],
   "source": [
    "# round(\n",
    "print(\"Average: {}\".format(''.join(str(np.mean([c0id_lengths,\n",
    "                     c0d_lengths, \n",
    "                     c0id_sentence, \n",
    "                     c0d_sentence, \n",
    "                     c0id_word, \n",
    "                     c0d_word], axis=1)))))\n",
    "print(\"Median: {}\".format(''.join(str(np.median([c0id_lengths,\n",
    "                     c0d_lengths, \n",
    "                     c0id_sentence, \n",
    "                     c0d_sentence, \n",
    "                     c0id_word, \n",
    "                     c0d_word], axis=1)))))"
   ]
  },
  {
   "cell_type": "code",
   "execution_count": 120,
   "metadata": {
    "scrolled": true
   },
   "outputs": [
    {
     "name": "stdout",
     "output_type": "stream",
     "text": [
      "(40,)\n"
     ]
    }
   ],
   "source": [
    "print(c0.iloc[np.where(np.array(c0d_lengths) > 200)].Diagnosis.shape)\n",
    "\n",
    "c0.iloc[np.where(np.array(c0d_lengths) > 200)].Diagnosis"
   ]
  },
  {
   "cell_type": "code",
   "execution_count": null,
   "metadata": {},
   "outputs": [],
   "source": [
    "# Lets check the Item description and Diagnosis of instances of class 1\n",
    "c1 = data.loc[data.PreventiveFlag==1.0]\n",
    "# Length in characters\n",
    "c1id_lengths = [len(item[1].ItemDescription) for item in c1.iterrows()]\n",
    "c1d_lengths = [len(item[1].Diagnosis) for item in c1.iterrows()]\n",
    "# Distribution of number of sentences in Item Descriptions: \n",
    "c1id_sentence = [len(sent_tokenize(item[1].ItemDescription)) for item in c1.iterrows()]\n",
    "c1d_sentence = [len(sent_tokenize(item[1].Diagnosis)) for item in c1.iterrows()]\n",
    "# Word count in ItemDescription\n",
    "c1id_word = [len(word_tokenize(item[1].ItemDescription)) for item in c1.iterrows()]\n",
    "c1d_word = [len(word_tokenize(item[1].Diagnosis)) for item in c1.iterrows()]"
   ]
  },
  {
   "cell_type": "code",
   "execution_count": 50,
   "metadata": {},
   "outputs": [
    {
     "data": {
      "image/png": "[encoded data removed]",
      "text/plain": [
       "<matplotlib.figure.Figure at 0x1a1b1494e0>"
      ]
     },
     "metadata": {},
     "output_type": "display_data"
    },
    {
     "name": "stdout",
     "output_type": "stream",
     "text": [
      "10.140615940093994\n"
     ]
    }
   ],
   "source": [
    "# create 3 subplots (horizontally stacked)    ~ 10 s\n",
    "\n",
    "f, axarr = plt.subplots(2,3,figsize=(20,8))\n",
    "\n",
    "sns.distplot(c1id_lengths, bins=10, rug=True, ax=axarr[0, 0], label=\"length\")\n",
    "axarr[0, 0].set_title('Char count')\n",
    "sns.distplot(c1id_sentence, bins=10, rug=True, ax=axarr[0, 1], label=\"sentence count\")\n",
    "axarr[0, 1].set_title('Sentence count')\n",
    "sns.distplot(c1id_word, bins=10, ax=axarr[0,2], rug=True, label=\"word count\")\n",
    "axarr[0,2].set_title('Word count')\n",
    "\n",
    "sns.distplot(c1d_lengths, bins=10, rug=True, ax=axarr[1,0], label=\"length\")\n",
    "axarr[1,0].set_title('Diagnosis Char count')\n",
    "sns.distplot(c1d_sentence, bins=10, rug=True, ax=axarr[1,1], label=\"sentence count\")\n",
    "axarr[1,1].set_title('Diagnosis Sentence count')\n",
    "sns.distplot(c1d_word, bins=10, ax=axarr[1,2], rug=True, label=\"word count\")\n",
    "axarr[1,2].set_title('Diagnosis Word count')\n",
    "\n",
    "plt.show()\n",
    "\n",
    "f.savefig('/graphics/class1_stats.png', dpi=f.dpi)"
   ]
  },
  {
   "cell_type": "code",
   "execution_count": 133,
   "metadata": {},
   "outputs": [
    {
     "name": "stdout",
     "output_type": "stream",
     "text": [
      "(3,)\n"
     ]
    },
    {
     "data": {
      "text/html": [
       "<div>\n",
       "<style scoped>\n",
       "    .dataframe tbody tr th:only-of-type {\n",
       "        vertical-align: middle;\n",
       "    }\n",
       "\n",
       "    .dataframe tbody tr th {\n",
       "        vertical-align: top;\n",
       "    }\n",
       "\n",
       "    .dataframe thead th {\n",
       "        text-align: right;\n",
       "    }\n",
       "</style>\n",
       "<table border=\"1\" class=\"dataframe\">\n",
       "  <thead>\n",
       "    <tr style=\"text-align: right;\">\n",
       "      <th></th>\n",
       "      <th>ItemDescription</th>\n",
       "      <th>Diagnosis</th>\n",
       "      <th>PreventiveFlag</th>\n",
       "    </tr>\n",
       "    <tr>\n",
       "      <th>id</th>\n",
       "      <th></th>\n",
       "      <th></th>\n",
       "      <th></th>\n",
       "    </tr>\n",
       "  </thead>\n",
       "  <tbody>\n",
       "    <tr>\n",
       "      <th>340</th>\n",
       "      <td>Buttons:  VACCINE CANINE EXAM + BORD</td>\n",
       "      <td>HISTORY: Has emptied her AG a few times, usual...</td>\n",
       "      <td>1.0</td>\n",
       "    </tr>\n",
       "    <tr>\n",
       "      <th>772</th>\n",
       "      <td>Jack:  Leptospirosis 1 Year Vaccination</td>\n",
       "      <td>ulcerated dermal mass, periodontal diaease Wel...</td>\n",
       "      <td>1.0</td>\n",
       "    </tr>\n",
       "    <tr>\n",
       "      <th>773</th>\n",
       "      <td>Jack:  Bordetella Intranasal Vaccination</td>\n",
       "      <td>ulcerated dermal mass, periodontal diaease Wel...</td>\n",
       "      <td>1.0</td>\n",
       "    </tr>\n",
       "  </tbody>\n",
       "</table>\n",
       "</div>"
      ],
      "text/plain": [
       "                              ItemDescription  \\\n",
       "id                                              \n",
       "340      Buttons:  VACCINE CANINE EXAM + BORD   \n",
       "772   Jack:  Leptospirosis 1 Year Vaccination   \n",
       "773  Jack:  Bordetella Intranasal Vaccination   \n",
       "\n",
       "                                             Diagnosis  PreventiveFlag  \n",
       "id                                                                      \n",
       "340  HISTORY: Has emptied her AG a few times, usual...             1.0  \n",
       "772  ulcerated dermal mass, periodontal diaease Wel...             1.0  \n",
       "773  ulcerated dermal mass, periodontal diaease Wel...             1.0  "
      ]
     },
     "execution_count": 133,
     "metadata": {},
     "output_type": "execute_result"
    }
   ],
   "source": [
    "print(c1.iloc[np.where(np.array(c1d_word) > 40)].Diagnosis.shape)\n",
    "c1.iloc[np.where(np.array(c1d_word) > 40)]"
   ]
  },
  {
   "cell_type": "code",
   "execution_count": 70,
   "metadata": {},
   "outputs": [
    {
     "name": "stdout",
     "output_type": "stream",
     "text": [
      "Average: [36.83923304 25.2979351   1.02359882  1.04867257  7.05014749  3.86873156]\n",
      "Median: [37. 18.  1.  1.  7.  2.]\n"
     ]
    }
   ],
   "source": [
    "print(\"Average: {}\".format(''.join(str(np.mean([c1id_lengths,\n",
    "                     c1d_lengths, \n",
    "                     c1id_sentence, \n",
    "                     c1d_sentence, \n",
    "                     c1id_word, \n",
    "                     c1d_word], axis=1)))))\n",
    "print(\"Median: {}\".format(''.join(str(np.median([c1id_lengths,\n",
    "                     c1d_lengths, \n",
    "                     c1id_sentence, \n",
    "                     c1d_sentence, \n",
    "                     c1id_word, \n",
    "                     c1d_word], axis=1)))))"
   ]
  },
  {
   "cell_type": "markdown",
   "metadata": {},
   "source": [
    "Class 1 \n",
    "Char count: Diagnosis has an outlier with more than 800 characters in length\n",
    "Must be the one having over 10 sentences and 170 words\n",
    "Let's see which instances have a diagnosis word count of more than 30\n",
    "On the ItemDescription side the fields seem to have in average 6 words and no more than 50 characters"
   ]
  },
  {
   "cell_type": "code",
   "execution_count": null,
   "metadata": {},
   "outputs": [],
   "source": [
    "# Overall there are few outliers in the diagnosis feature. \n",
    "np.where(np.array(c1d_word) > 40)\n",
    "np.where(np.array(c0d_lengths) > 200)\n",
    "# I dont think removing them will affect the performance of the classification, given their number. "
   ]
  },
  {
   "cell_type": "markdown",
   "metadata": {},
   "source": [
    "---"
   ]
  },
  {
   "cell_type": "code",
   "execution_count": 5,
   "metadata": {},
   "outputs": [
    {
     "name": "stdout",
     "output_type": "stream",
     "text": [
      "Data size (10000, 3) \n",
      " 0.0678 Label 1 (678) vs 0.9322 Label 0(9322)\n"
     ]
    }
   ],
   "source": [
    "# Is the data balanced? \n",
    "label_true = data.PreventiveFlag.value_counts()[1]\n",
    "label_false = data.PreventiveFlag.value_counts()[0]\n",
    "print(\"Data size {} \\n {} Label 1 ({}) vs {} Label 0({})\".format(\n",
    "                                             str(data.shape),\n",
    "                                             str(label_true/(label_false+label_true)),\n",
    "                                             str(label_true), \n",
    "                                             str(label_false/(label_false+label_true)),\n",
    "                                             str(label_false)))\n",
    "\n",
    "# data = data.sample(frac=0.005)\n"
   ]
  },
  {
   "cell_type": "markdown",
   "metadata": {},
   "source": [
    "#### Init"
   ]
  },
  {
   "cell_type": "code",
   "execution_count": null,
   "metadata": {},
   "outputs": [],
   "source": []
  },
  {
   "cell_type": "code",
   "execution_count": 8,
   "metadata": {},
   "outputs": [
    {
     "name": "stdout",
     "output_type": "stream",
     "text": [
      "Lemmatizing...\n",
      "Training and Validation set sizes:  (7000, 4853) (7000,) (3000, 4853) (3000,)\n",
      "Datasets sizes:\n",
      " (1396, 4853) (1115, 4853) (5413, 4853)\n",
      "Training...\n",
      "\n",
      "Done in 56 seconds\n",
      "\n",
      "Stemming...\n",
      "Training and Validation set sizes:  (7000, 4715) (7000,) (3000, 4715) (3000,)\n",
      "Datasets sizes:\n",
      " (1396, 4715) (1115, 4715) (5413, 4715)\n",
      "Training...\n",
      "\n",
      "Done in 18 seconds\n",
      "\n",
      "Lemmatizing...\n",
      "Stemming...\n",
      "Training and Validation set sizes:  (7000, 4702) (7000,) (3000, 4702) (3000,)\n",
      "Datasets sizes:\n",
      " (1396, 4702) (1115, 4702) (5413, 4702)\n",
      "Training...\n",
      "\n",
      "Done in 44 seconds\n",
      "\n"
     ]
    }
   ],
   "source": [
    "## --- Variables\n",
    "ng = 1\n",
    "lemaVsStem = 0 # [0 for Lemming, 1 for stemming and 2 for both]\n",
    "\n",
    "train_val_ratio = 0.3\n",
    "seed = 42 # To minimize the sampling variation. \n",
    "np.random.seed(seed)\n",
    "optimal_ratios = [0.143,0.1]\n",
    "n_models = 3\n",
    "clfs = {\n",
    "    'clf_1':LogisticRegression(random_state=seed),\n",
    "    'clf_2':RandomForestClassifier(random_state=seed), #DecisionTreeClassifier(random_state=seed),\n",
    "    'clf_3':SGDClassifier(loss='log',random_state=seed)}\n",
    "\n",
    "# Start! \n",
    "for ng in range(1,4):\n",
    "    for lemaVsStem in range(3):\n",
    "        # Masterscript\n",
    "        flags = {'lemStem':lemaVsStem, \n",
    "                 'optimalRatio':optimal_ratios,\n",
    "                 'trainValRatio': train_val_ratio, \n",
    "                 'n-grams': ng, \n",
    "                 'N_Models':n_models,\n",
    "                 'rndseed':seed, \n",
    "                 'name':'RF'+str(ng)+\"_\"+str(lemaVsStem)\n",
    "                }\n",
    "\n",
    "        trupanion(data, clfs, flags)\n"
   ]
  },
  {
   "cell_type": "markdown",
   "metadata": {},
   "source": [
    "#### Model selection\n"
   ]
  },
  {
   "cell_type": "code",
   "execution_count": 17,
   "metadata": {},
   "outputs": [],
   "source": [
    "\n",
    "from sklearn.model_selection import GridSearchCV\n",
    "\n",
    "param_dt = {'max_leaf_nodes': list(range(2, 100, 20)), \n",
    "           'min_samples_split': [2, 3, 4],\n",
    "           'max_depth':[2,4,6]}\n",
    "param_rf = { \n",
    "            'n_estimators': [25, 50],\n",
    "            'max_features': ['auto', 'sqrt', 'log2'],\n",
    "            'max_depth' : [4,5,7,8],\n",
    "            'criterion' :['gini', 'entropy']\n",
    "} # 978s\n",
    "param_lr  = {'penalty':[\"l1\",\"l2\"], 'class_weight':[None,'balanced']}\n",
    "param_sgd = {'penalty':[\"l1\",\"l2\",\"elasticnet\"],\n",
    "               'learning_rate':['optimal'], \n",
    "               'loss':[\"log\",\"modified_huber\"], \n",
    "               'max_iter':[i for i in range(2,7,2)]}\n",
    "\n",
    "params = {'1':param_lr,\n",
    "          '2':param_rf,\n",
    "          '3':param_sgd}\n",
    "\n",
    "clfs = {\n",
    "    'clf_1':LogisticRegression(random_state=seed),\n",
    "    'clf_2':RandomForestClassifier(random_state=seed), #DecisionTreeClassifier(random_state=seed),\n",
    "    'clf_3':SGDClassifier(loss='log',random_state=seed)}"
   ]
  },
  {
   "cell_type": "markdown",
   "metadata": {},
   "source": [
    "#### GridSearch\n"
   ]
  },
  {
   "cell_type": "code",
   "execution_count": 115,
   "metadata": {},
   "outputs": [
    {
     "name": "stdout",
     "output_type": "stream",
     "text": [
      "978.4219751358032\n"
     ]
    },
    {
     "data": {
      "text/plain": [
       "{'criterion': 'gini',\n",
       " 'max_depth': 8,\n",
       " 'max_features': 'auto',\n",
       " 'n_estimators': 25}"
      ]
     },
     "execution_count": 115,
     "metadata": {},
     "output_type": "execute_result"
    }
   ],
   "source": [
    "# Hypertune a single classifier\n",
    "\n",
    "start = time()\n",
    "dbase = 2 # ID number of dataset\n",
    "rfc = RandomForestClassifier(random_state=seed)\n",
    "CV_rfc = GridSearchCV(estimator=rfc, param_grid=param_rf, cv= 3, n_jobs=-1)\n",
    "CV_rfc.fit(Xtr[str(dbase)], ytr[str(dbase)])\n",
    "\n",
    "print(\"{:.0f} seconds\".format(time()-start))\n",
    "\n",
    "# Update the classifier with the optimal params\n",
    "clfs['clf_'+str(dbase)].set_params(**CV_rfc.best_params_)"
   ]
  },
  {
   "cell_type": "code",
   "execution_count": 70,
   "metadata": {},
   "outputs": [
    {
     "name": "stdout",
     "output_type": "stream",
     "text": [
      "86.30142211914062\n"
     ]
    }
   ],
   "source": [
    "# Hypertune the whole set of classifiers\n",
    "\n",
    "start = time() # ~86s\n",
    "\n",
    "grid_search_cv = {}\n",
    "for i in range(1,n_models+1):\n",
    "    grid_search_cv['clf_'+str(i)] = GridSearchCV(clfs['clf_'+str(i)], params[str(i)], n_jobs=-1)\n",
    "    grid_search_cv['clf_'+str(i)].fit(Xtr[str(i)], ytr[str(i)])\n",
    "    \n",
    "    # Update the classifiers with the optimal parameters\n",
    "    clfs['clf_'+str(i)].set_params(**grid_search_cv['clf_'+str(i)].best_params_)\n",
    "    \n",
    "#     print(grid_search_cv['clf_'+str(i)].best_estimator_)\n",
    "\n",
    "print(\"{:.0f} seconds\".format(time()-start))"
   ]
  },
  {
   "cell_type": "markdown",
   "metadata": {},
   "source": [
    "Testing the baseline of classifiers with default parameters show scores higher (~0.068) than of its optmized homologue. And the Hard voting method outperforms the soft method (~0.048). \n",
    "Optimal n for n-grams is 2. \n",
    "Lemmatizing is prefered over stemming. And ngrams of 3 -4 lemmas yields high results. \n",
    "Switching the Decision trees classifier with a Random forest yielded interesting results. The default RF outweighed the gridsearch RF"
   ]
  },
  {
   "cell_type": "markdown",
   "metadata": {},
   "source": [
    "---\n",
    "The following script assumes: \n",
    "    - the dataset is balanced so best is to put it all in a pipeline\n",
    "    - Uses optimized classifiers"
   ]
  },
  {
   "cell_type": "code",
   "execution_count": 20,
   "metadata": {},
   "outputs": [],
   "source": [
    "# Optimal classifiers. \n",
    "clf1 = DecisionTreeClassifier(max_depth=2, max_leaf_nodes=42, min_samples_split=2, random_state=42)\n",
    "clf2 = SGDClassifier(learning_rate='optimal', loss='log', max_iter=4, penalty='l1', random_state=42)\n",
    "clf3 = LogisticRegression(class_weight='balanced', random_state=42)\n",
    "\n",
    "clfs = [\n",
    "    (\"DecTree\", clf1),\n",
    "    (\"SVMwithSGD\", clf2),\n",
    "    (\"LogReg\", clf3)\n",
    "]\n",
    "\n",
    "\n",
    "mixed_pipe = Pipeline([\n",
    "    (\"voting\", VotingClassifier(clfs, voting=\"soft\"))\n",
    "])\n",
    "\n",
    "start = time()\n",
    "\n",
    "mixed_pipe.fit(X_train, y_train)\n",
    "y_val_pred = mixed_pipe.predict(X_val)\n",
    "\n",
    "# These predictions can then be used to evaluate the classifier:\n",
    "\n",
    "# y_train_scores = cross_val_score(mixed_pipe, X_train, y_train, cv=10)\n",
    "y_train_pred = cross_val_predict(mixed_pipe, X_train, y_train, cv=10)\n",
    "\n",
    "print(\"{:.0f} seconds\".format(time()-start))\n",
    "\n",
    "res = get_metrics(pd.DataFrame(), y_train, y_train_pred, 'Training')\n",
    "res = get_metrics(res, y_val, y_val_pred, 'Validation')\n",
    "res"
   ]
  },
  {
   "cell_type": "markdown",
   "metadata": {},
   "source": [
    "#### Evaluation"
   ]
  },
  {
   "cell_type": "code",
   "execution_count": 10,
   "metadata": {},
   "outputs": [
    {
     "name": "stdout",
     "output_type": "stream",
     "text": [
      "Loading file: 1_1.csv\n",
      "Loading file: 1_0.csv\n",
      "Loading file: 1_2.csv\n",
      "(24, 14)\n"
     ]
    },
    {
     "data": {
      "text/html": [
       "<div>\n",
       "<style scoped>\n",
       "    .dataframe tbody tr th:only-of-type {\n",
       "        vertical-align: middle;\n",
       "    }\n",
       "\n",
       "    .dataframe tbody tr th {\n",
       "        vertical-align: top;\n",
       "    }\n",
       "\n",
       "    .dataframe thead th {\n",
       "        text-align: right;\n",
       "    }\n",
       "</style>\n",
       "<table border=\"1\" class=\"dataframe\">\n",
       "  <thead>\n",
       "    <tr style=\"text-align: right;\">\n",
       "      <th></th>\n",
       "      <th>Phase</th>\n",
       "      <th>AUC</th>\n",
       "      <th>F1_C0</th>\n",
       "      <th>F1_C1</th>\n",
       "      <th>MSE</th>\n",
       "      <th>Prec_C0</th>\n",
       "      <th>Prec_C1</th>\n",
       "      <th>Recal_C0</th>\n",
       "      <th>Recal_C1</th>\n",
       "      <th>LemmVsStem</th>\n",
       "      <th>TrValRatio</th>\n",
       "      <th>nGrams</th>\n",
       "      <th>db_size</th>\n",
       "      <th>time</th>\n",
       "    </tr>\n",
       "  </thead>\n",
       "  <tbody>\n",
       "    <tr>\n",
       "      <th>0</th>\n",
       "      <td>Tr-LogisticRegression</td>\n",
       "      <td>0.813</td>\n",
       "      <td>0.893</td>\n",
       "      <td>0.770</td>\n",
       "      <td>0.146</td>\n",
       "      <td>0.820</td>\n",
       "      <td>0.950</td>\n",
       "      <td>0.979</td>\n",
       "      <td>0.648</td>\n",
       "      <td>1</td>\n",
       "      <td>0.3</td>\n",
       "      <td>1</td>\n",
       "      <td>(7000, 4715)</td>\n",
       "      <td>18.5</td>\n",
       "    </tr>\n",
       "    <tr>\n",
       "      <th>1</th>\n",
       "      <td>Val-LogisticRegression</td>\n",
       "      <td>0.854</td>\n",
       "      <td>0.976</td>\n",
       "      <td>0.705</td>\n",
       "      <td>0.044</td>\n",
       "      <td>0.979</td>\n",
       "      <td>0.677</td>\n",
       "      <td>0.973</td>\n",
       "      <td>0.736</td>\n",
       "      <td>1</td>\n",
       "      <td>0.3</td>\n",
       "      <td>1</td>\n",
       "      <td>(7000, 4715)</td>\n",
       "      <td>18.5</td>\n",
       "    </tr>\n",
       "    <tr>\n",
       "      <th>2</th>\n",
       "      <td>Tr-RandomForestClassifier</td>\n",
       "      <td>0.840</td>\n",
       "      <td>0.872</td>\n",
       "      <td>0.817</td>\n",
       "      <td>0.151</td>\n",
       "      <td>0.808</td>\n",
       "      <td>0.921</td>\n",
       "      <td>0.947</td>\n",
       "      <td>0.733</td>\n",
       "      <td>1</td>\n",
       "      <td>0.3</td>\n",
       "      <td>1</td>\n",
       "      <td>(7000, 4715)</td>\n",
       "      <td>18.5</td>\n",
       "    </tr>\n",
       "    <tr>\n",
       "      <th>3</th>\n",
       "      <td>Val-RandomForestClassifier</td>\n",
       "      <td>0.883</td>\n",
       "      <td>0.958</td>\n",
       "      <td>0.614</td>\n",
       "      <td>0.075</td>\n",
       "      <td>0.986</td>\n",
       "      <td>0.486</td>\n",
       "      <td>0.932</td>\n",
       "      <td>0.833</td>\n",
       "      <td>1</td>\n",
       "      <td>0.3</td>\n",
       "      <td>1</td>\n",
       "      <td>(7000, 4715)</td>\n",
       "      <td>18.5</td>\n",
       "    </tr>\n",
       "    <tr>\n",
       "      <th>4</th>\n",
       "      <td>Tr-SGDClassifier</td>\n",
       "      <td>0.656</td>\n",
       "      <td>0.943</td>\n",
       "      <td>0.470</td>\n",
       "      <td>0.103</td>\n",
       "      <td>0.897</td>\n",
       "      <td>0.892</td>\n",
       "      <td>0.994</td>\n",
       "      <td>0.319</td>\n",
       "      <td>1</td>\n",
       "      <td>0.3</td>\n",
       "      <td>1</td>\n",
       "      <td>(7000, 4715)</td>\n",
       "      <td>18.5</td>\n",
       "    </tr>\n",
       "  </tbody>\n",
       "</table>\n",
       "</div>"
      ],
      "text/plain": [
       "                        Phase    AUC  F1_C0  F1_C1    MSE  Prec_C0  Prec_C1  \\\n",
       "0       Tr-LogisticRegression  0.813  0.893  0.770  0.146    0.820    0.950   \n",
       "1      Val-LogisticRegression  0.854  0.976  0.705  0.044    0.979    0.677   \n",
       "2   Tr-RandomForestClassifier  0.840  0.872  0.817  0.151    0.808    0.921   \n",
       "3  Val-RandomForestClassifier  0.883  0.958  0.614  0.075    0.986    0.486   \n",
       "4            Tr-SGDClassifier  0.656  0.943  0.470  0.103    0.897    0.892   \n",
       "\n",
       "   Recal_C0  Recal_C1  LemmVsStem  TrValRatio  nGrams       db_size  time  \n",
       "0     0.979     0.648           1         0.3       1  (7000, 4715)  18.5  \n",
       "1     0.973     0.736           1         0.3       1  (7000, 4715)  18.5  \n",
       "2     0.947     0.733           1         0.3       1  (7000, 4715)  18.5  \n",
       "3     0.932     0.833           1         0.3       1  (7000, 4715)  18.5  \n",
       "4     0.994     0.319           1         0.3       1  (7000, 4715)  18.5  "
      ]
     },
     "execution_count": 10,
     "metadata": {},
     "output_type": "execute_result"
    }
   ],
   "source": [
    "files = os.listdir(path+'/results')\n",
    "mys = pd.DataFrame()\n",
    "for file in files: \n",
    "    print('Loading file:', file)\n",
    "    mys = pd.concat([mys,pd.read_csv(path+'/results/'+file, index_col=0)])\n",
    "print(mys.shape)\n",
    "mys.head()"
   ]
  },
  {
   "cell_type": "code",
   "execution_count": 11,
   "metadata": {},
   "outputs": [
    {
     "data": {
      "text/html": [
       "<div>\n",
       "<style scoped>\n",
       "    .dataframe tbody tr th:only-of-type {\n",
       "        vertical-align: middle;\n",
       "    }\n",
       "\n",
       "    .dataframe tbody tr th {\n",
       "        vertical-align: top;\n",
       "    }\n",
       "\n",
       "    .dataframe thead th {\n",
       "        text-align: right;\n",
       "    }\n",
       "</style>\n",
       "<table border=\"1\" class=\"dataframe\">\n",
       "  <thead>\n",
       "    <tr style=\"text-align: right;\">\n",
       "      <th></th>\n",
       "      <th>Phase</th>\n",
       "      <th>AUC</th>\n",
       "      <th>F1_C0</th>\n",
       "      <th>F1_C1</th>\n",
       "      <th>MSE</th>\n",
       "      <th>Prec_C0</th>\n",
       "      <th>Prec_C1</th>\n",
       "      <th>Recal_C0</th>\n",
       "      <th>Recal_C1</th>\n",
       "      <th>LemmVsStem</th>\n",
       "      <th>TrValRatio</th>\n",
       "      <th>nGrams</th>\n",
       "      <th>db_size</th>\n",
       "      <th>time</th>\n",
       "    </tr>\n",
       "  </thead>\n",
       "  <tbody>\n",
       "    <tr>\n",
       "      <th>0</th>\n",
       "      <td>Tr-LogisticRegression</td>\n",
       "      <td>0.813</td>\n",
       "      <td>0.893</td>\n",
       "      <td>0.770</td>\n",
       "      <td>0.146</td>\n",
       "      <td>0.820</td>\n",
       "      <td>0.950</td>\n",
       "      <td>0.979</td>\n",
       "      <td>0.648</td>\n",
       "      <td>1</td>\n",
       "      <td>0.3</td>\n",
       "      <td>1</td>\n",
       "      <td>(7000, 4715)</td>\n",
       "      <td>18.5</td>\n",
       "    </tr>\n",
       "    <tr>\n",
       "      <th>1</th>\n",
       "      <td>Val-LogisticRegression</td>\n",
       "      <td>0.854</td>\n",
       "      <td>0.976</td>\n",
       "      <td>0.705</td>\n",
       "      <td>0.044</td>\n",
       "      <td>0.979</td>\n",
       "      <td>0.677</td>\n",
       "      <td>0.973</td>\n",
       "      <td>0.736</td>\n",
       "      <td>1</td>\n",
       "      <td>0.3</td>\n",
       "      <td>1</td>\n",
       "      <td>(7000, 4715)</td>\n",
       "      <td>18.5</td>\n",
       "    </tr>\n",
       "    <tr>\n",
       "      <th>2</th>\n",
       "      <td>Tr-RandomForestClassifier</td>\n",
       "      <td>0.840</td>\n",
       "      <td>0.872</td>\n",
       "      <td>0.817</td>\n",
       "      <td>0.151</td>\n",
       "      <td>0.808</td>\n",
       "      <td>0.921</td>\n",
       "      <td>0.947</td>\n",
       "      <td>0.733</td>\n",
       "      <td>1</td>\n",
       "      <td>0.3</td>\n",
       "      <td>1</td>\n",
       "      <td>(7000, 4715)</td>\n",
       "      <td>18.5</td>\n",
       "    </tr>\n",
       "    <tr>\n",
       "      <th>3</th>\n",
       "      <td>Val-RandomForestClassifier</td>\n",
       "      <td>0.883</td>\n",
       "      <td>0.958</td>\n",
       "      <td>0.614</td>\n",
       "      <td>0.075</td>\n",
       "      <td>0.986</td>\n",
       "      <td>0.486</td>\n",
       "      <td>0.932</td>\n",
       "      <td>0.833</td>\n",
       "      <td>1</td>\n",
       "      <td>0.3</td>\n",
       "      <td>1</td>\n",
       "      <td>(7000, 4715)</td>\n",
       "      <td>18.5</td>\n",
       "    </tr>\n",
       "    <tr>\n",
       "      <th>4</th>\n",
       "      <td>Tr-SGDClassifier</td>\n",
       "      <td>0.656</td>\n",
       "      <td>0.943</td>\n",
       "      <td>0.470</td>\n",
       "      <td>0.103</td>\n",
       "      <td>0.897</td>\n",
       "      <td>0.892</td>\n",
       "      <td>0.994</td>\n",
       "      <td>0.319</td>\n",
       "      <td>1</td>\n",
       "      <td>0.3</td>\n",
       "      <td>1</td>\n",
       "      <td>(7000, 4715)</td>\n",
       "      <td>18.5</td>\n",
       "    </tr>\n",
       "    <tr>\n",
       "      <th>5</th>\n",
       "      <td>Val-SGDClassifier</td>\n",
       "      <td>0.851</td>\n",
       "      <td>0.981</td>\n",
       "      <td>0.749</td>\n",
       "      <td>0.035</td>\n",
       "      <td>0.978</td>\n",
       "      <td>0.783</td>\n",
       "      <td>0.985</td>\n",
       "      <td>0.718</td>\n",
       "      <td>1</td>\n",
       "      <td>0.3</td>\n",
       "      <td>1</td>\n",
       "      <td>(7000, 4715)</td>\n",
       "      <td>18.5</td>\n",
       "    </tr>\n",
       "    <tr>\n",
       "      <th>6</th>\n",
       "      <td>Val Soft</td>\n",
       "      <td>0.880</td>\n",
       "      <td>0.976</td>\n",
       "      <td>0.722</td>\n",
       "      <td>0.044</td>\n",
       "      <td>0.984</td>\n",
       "      <td>0.663</td>\n",
       "      <td>0.969</td>\n",
       "      <td>0.792</td>\n",
       "      <td>1</td>\n",
       "      <td>0.3</td>\n",
       "      <td>1</td>\n",
       "      <td>(7000, 4715)</td>\n",
       "      <td>18.5</td>\n",
       "    </tr>\n",
       "    <tr>\n",
       "      <th>7</th>\n",
       "      <td>Val Hard</td>\n",
       "      <td>0.869</td>\n",
       "      <td>0.978</td>\n",
       "      <td>0.730</td>\n",
       "      <td>0.041</td>\n",
       "      <td>0.982</td>\n",
       "      <td>0.699</td>\n",
       "      <td>0.974</td>\n",
       "      <td>0.764</td>\n",
       "      <td>1</td>\n",
       "      <td>0.3</td>\n",
       "      <td>1</td>\n",
       "      <td>(7000, 4715)</td>\n",
       "      <td>18.5</td>\n",
       "    </tr>\n",
       "    <tr>\n",
       "      <th>0</th>\n",
       "      <td>Tr-LogisticRegression</td>\n",
       "      <td>0.807</td>\n",
       "      <td>0.889</td>\n",
       "      <td>0.761</td>\n",
       "      <td>0.152</td>\n",
       "      <td>0.817</td>\n",
       "      <td>0.939</td>\n",
       "      <td>0.975</td>\n",
       "      <td>0.640</td>\n",
       "      <td>0</td>\n",
       "      <td>0.3</td>\n",
       "      <td>1</td>\n",
       "      <td>(7000, 4853)</td>\n",
       "      <td>55.8</td>\n",
       "    </tr>\n",
       "    <tr>\n",
       "      <th>1</th>\n",
       "      <td>Val-LogisticRegression</td>\n",
       "      <td>0.865</td>\n",
       "      <td>0.976</td>\n",
       "      <td>0.710</td>\n",
       "      <td>0.045</td>\n",
       "      <td>0.981</td>\n",
       "      <td>0.667</td>\n",
       "      <td>0.971</td>\n",
       "      <td>0.759</td>\n",
       "      <td>0</td>\n",
       "      <td>0.3</td>\n",
       "      <td>1</td>\n",
       "      <td>(7000, 4853)</td>\n",
       "      <td>55.8</td>\n",
       "    </tr>\n",
       "    <tr>\n",
       "      <th>2</th>\n",
       "      <td>Tr-RandomForestClassifier</td>\n",
       "      <td>0.818</td>\n",
       "      <td>0.856</td>\n",
       "      <td>0.788</td>\n",
       "      <td>0.171</td>\n",
       "      <td>0.793</td>\n",
       "      <td>0.892</td>\n",
       "      <td>0.930</td>\n",
       "      <td>0.706</td>\n",
       "      <td>0</td>\n",
       "      <td>0.3</td>\n",
       "      <td>1</td>\n",
       "      <td>(7000, 4853)</td>\n",
       "      <td>55.8</td>\n",
       "    </tr>\n",
       "    <tr>\n",
       "      <th>3</th>\n",
       "      <td>Val-RandomForestClassifier</td>\n",
       "      <td>0.871</td>\n",
       "      <td>0.965</td>\n",
       "      <td>0.641</td>\n",
       "      <td>0.064</td>\n",
       "      <td>0.984</td>\n",
       "      <td>0.536</td>\n",
       "      <td>0.946</td>\n",
       "      <td>0.796</td>\n",
       "      <td>0</td>\n",
       "      <td>0.3</td>\n",
       "      <td>1</td>\n",
       "      <td>(7000, 4853)</td>\n",
       "      <td>55.8</td>\n",
       "    </tr>\n",
       "    <tr>\n",
       "      <th>4</th>\n",
       "      <td>Tr-SGDClassifier</td>\n",
       "      <td>0.661</td>\n",
       "      <td>0.942</td>\n",
       "      <td>0.479</td>\n",
       "      <td>0.104</td>\n",
       "      <td>0.897</td>\n",
       "      <td>0.878</td>\n",
       "      <td>0.992</td>\n",
       "      <td>0.330</td>\n",
       "      <td>0</td>\n",
       "      <td>0.3</td>\n",
       "      <td>1</td>\n",
       "      <td>(7000, 4853)</td>\n",
       "      <td>55.8</td>\n",
       "    </tr>\n",
       "    <tr>\n",
       "      <th>5</th>\n",
       "      <td>Val-SGDClassifier</td>\n",
       "      <td>0.834</td>\n",
       "      <td>0.981</td>\n",
       "      <td>0.735</td>\n",
       "      <td>0.035</td>\n",
       "      <td>0.975</td>\n",
       "      <td>0.799</td>\n",
       "      <td>0.987</td>\n",
       "      <td>0.681</td>\n",
       "      <td>0</td>\n",
       "      <td>0.3</td>\n",
       "      <td>1</td>\n",
       "      <td>(7000, 4853)</td>\n",
       "      <td>55.8</td>\n",
       "    </tr>\n",
       "    <tr>\n",
       "      <th>6</th>\n",
       "      <td>Val Soft</td>\n",
       "      <td>0.867</td>\n",
       "      <td>0.978</td>\n",
       "      <td>0.727</td>\n",
       "      <td>0.041</td>\n",
       "      <td>0.981</td>\n",
       "      <td>0.698</td>\n",
       "      <td>0.974</td>\n",
       "      <td>0.759</td>\n",
       "      <td>0</td>\n",
       "      <td>0.3</td>\n",
       "      <td>1</td>\n",
       "      <td>(7000, 4853)</td>\n",
       "      <td>55.8</td>\n",
       "    </tr>\n",
       "    <tr>\n",
       "      <th>7</th>\n",
       "      <td>Val Hard</td>\n",
       "      <td>0.866</td>\n",
       "      <td>0.979</td>\n",
       "      <td>0.736</td>\n",
       "      <td>0.039</td>\n",
       "      <td>0.981</td>\n",
       "      <td>0.718</td>\n",
       "      <td>0.977</td>\n",
       "      <td>0.755</td>\n",
       "      <td>0</td>\n",
       "      <td>0.3</td>\n",
       "      <td>1</td>\n",
       "      <td>(7000, 4853)</td>\n",
       "      <td>55.8</td>\n",
       "    </tr>\n",
       "    <tr>\n",
       "      <th>0</th>\n",
       "      <td>Tr-LogisticRegression</td>\n",
       "      <td>0.817</td>\n",
       "      <td>0.895</td>\n",
       "      <td>0.774</td>\n",
       "      <td>0.143</td>\n",
       "      <td>0.827</td>\n",
       "      <td>0.942</td>\n",
       "      <td>0.976</td>\n",
       "      <td>0.657</td>\n",
       "      <td>2</td>\n",
       "      <td>0.3</td>\n",
       "      <td>1</td>\n",
       "      <td>(7000, 4702)</td>\n",
       "      <td>43.9</td>\n",
       "    </tr>\n",
       "    <tr>\n",
       "      <th>1</th>\n",
       "      <td>Val-LogisticRegression</td>\n",
       "      <td>0.869</td>\n",
       "      <td>0.976</td>\n",
       "      <td>0.714</td>\n",
       "      <td>0.044</td>\n",
       "      <td>0.982</td>\n",
       "      <td>0.667</td>\n",
       "      <td>0.970</td>\n",
       "      <td>0.769</td>\n",
       "      <td>2</td>\n",
       "      <td>0.3</td>\n",
       "      <td>1</td>\n",
       "      <td>(7000, 4702)</td>\n",
       "      <td>43.9</td>\n",
       "    </tr>\n",
       "    <tr>\n",
       "      <th>2</th>\n",
       "      <td>Tr-RandomForestClassifier</td>\n",
       "      <td>0.813</td>\n",
       "      <td>0.853</td>\n",
       "      <td>0.782</td>\n",
       "      <td>0.176</td>\n",
       "      <td>0.786</td>\n",
       "      <td>0.895</td>\n",
       "      <td>0.933</td>\n",
       "      <td>0.694</td>\n",
       "      <td>2</td>\n",
       "      <td>0.3</td>\n",
       "      <td>1</td>\n",
       "      <td>(7000, 4702)</td>\n",
       "      <td>43.9</td>\n",
       "    </tr>\n",
       "    <tr>\n",
       "      <th>3</th>\n",
       "      <td>Val-RandomForestClassifier</td>\n",
       "      <td>0.895</td>\n",
       "      <td>0.965</td>\n",
       "      <td>0.658</td>\n",
       "      <td>0.063</td>\n",
       "      <td>0.988</td>\n",
       "      <td>0.538</td>\n",
       "      <td>0.944</td>\n",
       "      <td>0.847</td>\n",
       "      <td>2</td>\n",
       "      <td>0.3</td>\n",
       "      <td>1</td>\n",
       "      <td>(7000, 4702)</td>\n",
       "      <td>43.9</td>\n",
       "    </tr>\n",
       "    <tr>\n",
       "      <th>4</th>\n",
       "      <td>Tr-SGDClassifier</td>\n",
       "      <td>0.658</td>\n",
       "      <td>0.941</td>\n",
       "      <td>0.472</td>\n",
       "      <td>0.106</td>\n",
       "      <td>0.896</td>\n",
       "      <td>0.848</td>\n",
       "      <td>0.990</td>\n",
       "      <td>0.327</td>\n",
       "      <td>2</td>\n",
       "      <td>0.3</td>\n",
       "      <td>1</td>\n",
       "      <td>(7000, 4702)</td>\n",
       "      <td>43.9</td>\n",
       "    </tr>\n",
       "    <tr>\n",
       "      <th>5</th>\n",
       "      <td>Val-SGDClassifier</td>\n",
       "      <td>0.846</td>\n",
       "      <td>0.981</td>\n",
       "      <td>0.743</td>\n",
       "      <td>0.035</td>\n",
       "      <td>0.978</td>\n",
       "      <td>0.781</td>\n",
       "      <td>0.985</td>\n",
       "      <td>0.708</td>\n",
       "      <td>2</td>\n",
       "      <td>0.3</td>\n",
       "      <td>1</td>\n",
       "      <td>(7000, 4702)</td>\n",
       "      <td>43.9</td>\n",
       "    </tr>\n",
       "    <tr>\n",
       "      <th>6</th>\n",
       "      <td>Val Soft</td>\n",
       "      <td>0.886</td>\n",
       "      <td>0.977</td>\n",
       "      <td>0.735</td>\n",
       "      <td>0.042</td>\n",
       "      <td>0.984</td>\n",
       "      <td>0.678</td>\n",
       "      <td>0.971</td>\n",
       "      <td>0.801</td>\n",
       "      <td>2</td>\n",
       "      <td>0.3</td>\n",
       "      <td>1</td>\n",
       "      <td>(7000, 4702)</td>\n",
       "      <td>43.9</td>\n",
       "    </tr>\n",
       "    <tr>\n",
       "      <th>7</th>\n",
       "      <td>Val Hard</td>\n",
       "      <td>0.876</td>\n",
       "      <td>0.978</td>\n",
       "      <td>0.734</td>\n",
       "      <td>0.041</td>\n",
       "      <td>0.983</td>\n",
       "      <td>0.694</td>\n",
       "      <td>0.973</td>\n",
       "      <td>0.778</td>\n",
       "      <td>2</td>\n",
       "      <td>0.3</td>\n",
       "      <td>1</td>\n",
       "      <td>(7000, 4702)</td>\n",
       "      <td>43.9</td>\n",
       "    </tr>\n",
       "  </tbody>\n",
       "</table>\n",
       "</div>"
      ],
      "text/plain": [
       "                        Phase    AUC  F1_C0  F1_C1    MSE  Prec_C0  Prec_C1  \\\n",
       "0       Tr-LogisticRegression  0.813  0.893  0.770  0.146    0.820    0.950   \n",
       "1      Val-LogisticRegression  0.854  0.976  0.705  0.044    0.979    0.677   \n",
       "2   Tr-RandomForestClassifier  0.840  0.872  0.817  0.151    0.808    0.921   \n",
       "3  Val-RandomForestClassifier  0.883  0.958  0.614  0.075    0.986    0.486   \n",
       "4            Tr-SGDClassifier  0.656  0.943  0.470  0.103    0.897    0.892   \n",
       "5           Val-SGDClassifier  0.851  0.981  0.749  0.035    0.978    0.783   \n",
       "6                    Val Soft  0.880  0.976  0.722  0.044    0.984    0.663   \n",
       "7                    Val Hard  0.869  0.978  0.730  0.041    0.982    0.699   \n",
       "0       Tr-LogisticRegression  0.807  0.889  0.761  0.152    0.817    0.939   \n",
       "1      Val-LogisticRegression  0.865  0.976  0.710  0.045    0.981    0.667   \n",
       "2   Tr-RandomForestClassifier  0.818  0.856  0.788  0.171    0.793    0.892   \n",
       "3  Val-RandomForestClassifier  0.871  0.965  0.641  0.064    0.984    0.536   \n",
       "4            Tr-SGDClassifier  0.661  0.942  0.479  0.104    0.897    0.878   \n",
       "5           Val-SGDClassifier  0.834  0.981  0.735  0.035    0.975    0.799   \n",
       "6                    Val Soft  0.867  0.978  0.727  0.041    0.981    0.698   \n",
       "7                    Val Hard  0.866  0.979  0.736  0.039    0.981    0.718   \n",
       "0       Tr-LogisticRegression  0.817  0.895  0.774  0.143    0.827    0.942   \n",
       "1      Val-LogisticRegression  0.869  0.976  0.714  0.044    0.982    0.667   \n",
       "2   Tr-RandomForestClassifier  0.813  0.853  0.782  0.176    0.786    0.895   \n",
       "3  Val-RandomForestClassifier  0.895  0.965  0.658  0.063    0.988    0.538   \n",
       "4            Tr-SGDClassifier  0.658  0.941  0.472  0.106    0.896    0.848   \n",
       "5           Val-SGDClassifier  0.846  0.981  0.743  0.035    0.978    0.781   \n",
       "6                    Val Soft  0.886  0.977  0.735  0.042    0.984    0.678   \n",
       "7                    Val Hard  0.876  0.978  0.734  0.041    0.983    0.694   \n",
       "\n",
       "   Recal_C0  Recal_C1  LemmVsStem  TrValRatio  nGrams       db_size  time  \n",
       "0     0.979     0.648           1         0.3       1  (7000, 4715)  18.5  \n",
       "1     0.973     0.736           1         0.3       1  (7000, 4715)  18.5  \n",
       "2     0.947     0.733           1         0.3       1  (7000, 4715)  18.5  \n",
       "3     0.932     0.833           1         0.3       1  (7000, 4715)  18.5  \n",
       "4     0.994     0.319           1         0.3       1  (7000, 4715)  18.5  \n",
       "5     0.985     0.718           1         0.3       1  (7000, 4715)  18.5  \n",
       "6     0.969     0.792           1         0.3       1  (7000, 4715)  18.5  \n",
       "7     0.974     0.764           1         0.3       1  (7000, 4715)  18.5  \n",
       "0     0.975     0.640           0         0.3       1  (7000, 4853)  55.8  \n",
       "1     0.971     0.759           0         0.3       1  (7000, 4853)  55.8  \n",
       "2     0.930     0.706           0         0.3       1  (7000, 4853)  55.8  \n",
       "3     0.946     0.796           0         0.3       1  (7000, 4853)  55.8  \n",
       "4     0.992     0.330           0         0.3       1  (7000, 4853)  55.8  \n",
       "5     0.987     0.681           0         0.3       1  (7000, 4853)  55.8  \n",
       "6     0.974     0.759           0         0.3       1  (7000, 4853)  55.8  \n",
       "7     0.977     0.755           0         0.3       1  (7000, 4853)  55.8  \n",
       "0     0.976     0.657           2         0.3       1  (7000, 4702)  43.9  \n",
       "1     0.970     0.769           2         0.3       1  (7000, 4702)  43.9  \n",
       "2     0.933     0.694           2         0.3       1  (7000, 4702)  43.9  \n",
       "3     0.944     0.847           2         0.3       1  (7000, 4702)  43.9  \n",
       "4     0.990     0.327           2         0.3       1  (7000, 4702)  43.9  \n",
       "5     0.985     0.708           2         0.3       1  (7000, 4702)  43.9  \n",
       "6     0.971     0.801           2         0.3       1  (7000, 4702)  43.9  \n",
       "7     0.973     0.778           2         0.3       1  (7000, 4702)  43.9  "
      ]
     },
     "execution_count": 11,
     "metadata": {},
     "output_type": "execute_result"
    }
   ],
   "source": [
    "mys"
   ]
  },
  {
   "cell_type": "code",
   "execution_count": 103,
   "metadata": {
    "scrolled": true
   },
   "outputs": [
    {
     "data": {
      "image/png": "[encoded data removed]",
      "text/plain": [
       "<matplotlib.figure.Figure at 0x1a1d2d5198>"
      ]
     },
     "metadata": {},
     "output_type": "display_data"
    }
   ],
   "source": [
    "def plot_curves(y_train, y_train_pred):\n",
    "    # create 2 subplots (horizontally stacked)\n",
    "\n",
    "    fpr, tpr, thresholds = roc_curve(y_train, y_train_pred)\n",
    "    precision, recall, f = precision_recall_curve(y_train, y_train_pred)\n",
    "\n",
    "    fig, axarr = plt.subplots(1,2,figsize=(15,4))\n",
    "\n",
    "    axarr[0].plot(f, precision[:-1], \"b--\", label=\"Precision\", linewidth=2)\n",
    "    axarr[0].plot(f, recall[:-1], \"g-\", label=\"Recall\", linewidth=2)\n",
    "    axarr[0].legend(loc=\"top\", fontsize=16)\n",
    "\n",
    "    # axarr[0].xlabel(\"Threshold\", fontsize=16)\n",
    "    # axarr[0].ylim([0, 1])\n",
    "\n",
    "    axarr[1].plot(fpr, tpr, linewidth=2, label='ROC')\n",
    "    axarr[1].plot([0, 1], [0, 1], 'k--')\n",
    "    axarr[1].axis([0, 1, 0, 1])\n",
    "    axarr[1].legend(loc=\"upper left\", fontsize=16)\n",
    "\n",
    "    plt.show()\n",
    "\n",
    "plot_curves(y_val, y_val_pred)"
   ]
  },
  {
   "cell_type": "code",
   "execution_count": 106,
   "metadata": {},
   "outputs": [
    {
     "data": {
      "image/png": "[encoded data removed]",
      "text/plain": [
       "<matplotlib.figure.Figure at 0x1a19c211d0>"
      ]
     },
     "metadata": {},
     "output_type": "display_data"
    }
   ],
   "source": [
    "plt.matshow(metrics.confusion_matrix(y_val, y_val_pred), cmap=plt.cm.hot)\n",
    "plt.colorbar()\n",
    "plt.show()"
   ]
  },
  {
   "cell_type": "markdown",
   "metadata": {},
   "source": [
    "# Answer: \n",
    "- Dealing with unbalanced dataset: \n",
    "    - Even up the training set: train the model with all of the minority class instances and an almost same amount of instances of the majority class. "
   ]
  },
  {
   "cell_type": "code",
   "execution_count": 110,
   "metadata": {},
   "outputs": [],
   "source": [
    "X_test, vc, vt = vectorizer(False, preprocessing(test), vc, vt)\n",
    "y_test = test.PreventiveFlag.values"
   ]
  },
  {
   "cell_type": "code",
   "execution_count": 111,
   "metadata": {},
   "outputs": [],
   "source": [
    "y_test_pred = mixed_pipe.predict(X_test)"
   ]
  }
 ],
 "metadata": {
  "kernelspec": {
   "display_name": "Python 3",
   "language": "python",
   "name": "python3"
  },
  "language_info": {
   "codemirror_mode": {
    "name": "ipython",
    "version": 3
   },
   "file_extension": ".py",
   "mimetype": "text/x-python",
   "name": "python",
   "nbconvert_exporter": "python",
   "pygments_lexer": "ipython3",
   "version": "3.6.4"
  }
 },
 "nbformat": 4,
 "nbformat_minor": 2
}
