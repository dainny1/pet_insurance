{
 "cells": [
  {
   "cell_type": "code",
   "execution_count": 1,
   "metadata": {},
   "outputs": [],
   "source": [
    "import pandas as pd\n",
    "import numpy as np\n",
    "import matplotlib.pyplot as plt\n",
    "import seaborn as sns\n",
    "import re\n",
    "import nltk\n",
    "%matplotlib inline\n"
   ]
  },
  {
   "cell_type": "code",
   "execution_count": 3,
   "metadata": {},
   "outputs": [
    {
     "name": "stdout",
     "output_type": "stream",
     "text": [
      "<class 'pandas.core.frame.DataFrame'>\n",
      "RangeIndex: 4716 entries, 0 to 4715\n",
      "Data columns (total 3 columns):\n",
      "ClaimId        4716 non-null int64\n",
      "id_labeled     4716 non-null int64\n",
      "amt_labeled    4716 non-null float64\n",
      "dtypes: float64(1), int64(2)\n",
      "memory usage: 110.6 KB\n",
      "None\n",
      "\n",
      "Labels has 2984 unique amt_labels\n",
      "Labels has 2473 unique Claim Id's\n",
      "\n"
     ]
    },
    {
     "data": {
      "text/html": [
       "<div>\n",
       "<style scoped>\n",
       "    .dataframe tbody tr th:only-of-type {\n",
       "        vertical-align: middle;\n",
       "    }\n",
       "\n",
       "    .dataframe tbody tr th {\n",
       "        vertical-align: top;\n",
       "    }\n",
       "\n",
       "    .dataframe thead th {\n",
       "        text-align: right;\n",
       "    }\n",
       "</style>\n",
       "<table border=\"1\" class=\"dataframe\">\n",
       "  <thead>\n",
       "    <tr style=\"text-align: right;\">\n",
       "      <th></th>\n",
       "      <th>ClaimId</th>\n",
       "      <th>id_labeled</th>\n",
       "      <th>amt_labeled</th>\n",
       "    </tr>\n",
       "  </thead>\n",
       "  <tbody>\n",
       "    <tr>\n",
       "      <th>0</th>\n",
       "      <td>1</td>\n",
       "      <td>1</td>\n",
       "      <td>301.54</td>\n",
       "    </tr>\n",
       "    <tr>\n",
       "      <th>1</th>\n",
       "      <td>1</td>\n",
       "      <td>2</td>\n",
       "      <td>105.00</td>\n",
       "    </tr>\n",
       "    <tr>\n",
       "      <th>2</th>\n",
       "      <td>2</td>\n",
       "      <td>3</td>\n",
       "      <td>62.95</td>\n",
       "    </tr>\n",
       "    <tr>\n",
       "      <th>3</th>\n",
       "      <td>2</td>\n",
       "      <td>4</td>\n",
       "      <td>577.82</td>\n",
       "    </tr>\n",
       "    <tr>\n",
       "      <th>4</th>\n",
       "      <td>3</td>\n",
       "      <td>5</td>\n",
       "      <td>42.72</td>\n",
       "    </tr>\n",
       "  </tbody>\n",
       "</table>\n",
       "</div>"
      ],
      "text/plain": [
       "   ClaimId  id_labeled  amt_labeled\n",
       "0        1           1       301.54\n",
       "1        1           2       105.00\n",
       "2        2           3        62.95\n",
       "3        2           4       577.82\n",
       "4        3           5        42.72"
      ]
     },
     "execution_count": 3,
     "metadata": {},
     "output_type": "execute_result"
    }
   ],
   "source": [
    "labels = pd.read_csv('p1_labels.csv')\n",
    "print(labels.info())\n",
    "print(\"\\nLabels has {} unique amt_labels\".format(len(labels.amt_labeled.unique())))\n",
    "print(\"Labels has {} unique Claim Id's\\n\".format(len(labels.ClaimId.unique())))\n",
    "labels.head()"
   ]
  },
  {
   "cell_type": "code",
   "execution_count": 3,
   "metadata": {},
   "outputs": [
    {
     "name": "stdout",
     "output_type": "stream",
     "text": [
      "<class 'pandas.core.frame.DataFrame'>\n",
      "RangeIndex: 13551 entries, 0 to 13550\n",
      "Data columns (total 4 columns):\n",
      "ClaimId         13551 non-null int64\n",
      "id_lineitem     13551 non-null int64\n",
      "amt_lineitem    13551 non-null float64\n",
      "features        13551 non-null object\n",
      "dtypes: float64(1), int64(2), object(1)\n",
      "memory usage: 423.5+ KB\n",
      "None\n",
      "\n",
      "Items has 5074 unique amt_lineitem\n",
      "Items has 2465 unique Claim Id's\n",
      "\n"
     ]
    },
    {
     "data": {
      "text/html": [
       "<div>\n",
       "<style scoped>\n",
       "    .dataframe tbody tr th:only-of-type {\n",
       "        vertical-align: middle;\n",
       "    }\n",
       "\n",
       "    .dataframe tbody tr th {\n",
       "        vertical-align: top;\n",
       "    }\n",
       "\n",
       "    .dataframe thead th {\n",
       "        text-align: right;\n",
       "    }\n",
       "</style>\n",
       "<table border=\"1\" class=\"dataframe\">\n",
       "  <thead>\n",
       "    <tr style=\"text-align: right;\">\n",
       "      <th></th>\n",
       "      <th>ClaimId</th>\n",
       "      <th>id_lineitem</th>\n",
       "      <th>amt_lineitem</th>\n",
       "      <th>features</th>\n",
       "    </tr>\n",
       "  </thead>\n",
       "  <tbody>\n",
       "    <tr>\n",
       "      <th>0</th>\n",
       "      <td>1</td>\n",
       "      <td>1</td>\n",
       "      <td>105.00</td>\n",
       "      <td>x</td>\n",
       "    </tr>\n",
       "    <tr>\n",
       "      <th>1</th>\n",
       "      <td>1</td>\n",
       "      <td>2</td>\n",
       "      <td>105.94</td>\n",
       "      <td>x</td>\n",
       "    </tr>\n",
       "    <tr>\n",
       "      <th>2</th>\n",
       "      <td>1</td>\n",
       "      <td>3</td>\n",
       "      <td>12.24</td>\n",
       "      <td>x</td>\n",
       "    </tr>\n",
       "    <tr>\n",
       "      <th>3</th>\n",
       "      <td>1</td>\n",
       "      <td>4</td>\n",
       "      <td>20.00</td>\n",
       "      <td>x</td>\n",
       "    </tr>\n",
       "    <tr>\n",
       "      <th>4</th>\n",
       "      <td>1</td>\n",
       "      <td>5</td>\n",
       "      <td>51.37</td>\n",
       "      <td>x</td>\n",
       "    </tr>\n",
       "  </tbody>\n",
       "</table>\n",
       "</div>"
      ],
      "text/plain": [
       "   ClaimId  id_lineitem  amt_lineitem features\n",
       "0        1            1        105.00        x\n",
       "1        1            2        105.94        x\n",
       "2        1            3         12.24        x\n",
       "3        1            4         20.00        x\n",
       "4        1            5         51.37        x"
      ]
     },
     "execution_count": 3,
     "metadata": {},
     "output_type": "execute_result"
    }
   ],
   "source": [
    "items = pd.read_csv('p1_lineitems.csv')\n",
    "print(items.info())\n",
    "print(\"\\nItems has {} unique amt_lineitem\".format(len(items.amt_lineitem.unique())))\n",
    "print(\"Items has {} unique Claim Id's\\n\".format(len(items.ClaimId.unique())))\n",
    "items.head()"
   ]
  },
  {
   "cell_type": "code",
   "execution_count": 2,
   "metadata": {},
   "outputs": [
    {
     "name": "stdout",
     "output_type": "stream",
     "text": [
      "<class 'pandas.core.frame.DataFrame'>\n",
      "Int64Index: 11000 entries, 1 to 11000\n",
      "Data columns (total 3 columns):\n",
      "ItemDescription    11000 non-null object\n",
      "Diagnosis          11000 non-null object\n",
      "PreventiveFlag     10000 non-null float64\n",
      "dtypes: float64(1), object(2)\n",
      "memory usage: 343.8+ KB\n",
      "None\n",
      "\n",
      "Data has 2266 unique Diagnosis\n",
      "Data has 10475 unique ItemDescriptions\n",
      "Data has 3 unique PreventiveFlags:[ 0.  1. nan] \n",
      " 0.0    9322\n",
      "1.0     678\n",
      "Name: PreventiveFlag, dtype: int64\n",
      "Data has 1000 null PreventiveFlags\n",
      "\n"
     ]
    },
    {
     "data": {
      "text/html": [
       "<div>\n",
       "<style scoped>\n",
       "    .dataframe tbody tr th:only-of-type {\n",
       "        vertical-align: middle;\n",
       "    }\n",
       "\n",
       "    .dataframe tbody tr th {\n",
       "        vertical-align: top;\n",
       "    }\n",
       "\n",
       "    .dataframe thead th {\n",
       "        text-align: right;\n",
       "    }\n",
       "</style>\n",
       "<table border=\"1\" class=\"dataframe\">\n",
       "  <thead>\n",
       "    <tr style=\"text-align: right;\">\n",
       "      <th></th>\n",
       "      <th>ItemDescription</th>\n",
       "      <th>Diagnosis</th>\n",
       "      <th>PreventiveFlag</th>\n",
       "    </tr>\n",
       "    <tr>\n",
       "      <th>id</th>\n",
       "      <th></th>\n",
       "      <th></th>\n",
       "      <th></th>\n",
       "    </tr>\n",
       "  </thead>\n",
       "  <tbody>\n",
       "    <tr>\n",
       "      <th>1</th>\n",
       "      <td>Six:  Urgent Care Exam - Daytime (8am-6pm)</td>\n",
       "      <td>colitis</td>\n",
       "      <td>0.0</td>\n",
       "    </tr>\n",
       "    <tr>\n",
       "      <th>2</th>\n",
       "      <td>Jafar:  Office Visit/Physical Exam</td>\n",
       "      <td>Stomach Issues</td>\n",
       "      <td>0.0</td>\n",
       "    </tr>\n",
       "    <tr>\n",
       "      <th>3</th>\n",
       "      <td>Jafar:  Fecal Smears</td>\n",
       "      <td>Stomach Issues</td>\n",
       "      <td>0.0</td>\n",
       "    </tr>\n",
       "    <tr>\n",
       "      <th>4</th>\n",
       "      <td>Jafar:  metronidazole 50mg</td>\n",
       "      <td>Stomach Issues</td>\n",
       "      <td>0.0</td>\n",
       "    </tr>\n",
       "    <tr>\n",
       "      <th>5</th>\n",
       "      <td>Jafar:  Fecal analysis for parasites</td>\n",
       "      <td>Stomach Issues</td>\n",
       "      <td>0.0</td>\n",
       "    </tr>\n",
       "  </tbody>\n",
       "</table>\n",
       "</div>"
      ],
      "text/plain": [
       "                               ItemDescription        Diagnosis  \\\n",
       "id                                                                \n",
       "1   Six:  Urgent Care Exam - Daytime (8am-6pm)         colitis    \n",
       "2           Jafar:  Office Visit/Physical Exam  Stomach Issues    \n",
       "3                        Jafar:  Fecal Smears   Stomach Issues    \n",
       "4                   Jafar:  metronidazole 50mg  Stomach Issues    \n",
       "5         Jafar:  Fecal analysis for parasites  Stomach Issues    \n",
       "\n",
       "    PreventiveFlag  \n",
       "id                  \n",
       "1              0.0  \n",
       "2              0.0  \n",
       "3              0.0  \n",
       "4              0.0  \n",
       "5              0.0  "
      ]
     },
     "execution_count": 2,
     "metadata": {},
     "output_type": "execute_result"
    }
   ],
   "source": [
    "p2data = pd.read_csv('p2_data.csv', index_col = 0, encoding = \"ISO-8859-1\") #simplest text encoding\n",
    "print(p2data.info())\n",
    "print(\"\\nData has {} unique Diagnosis\".format(len(p2data.Diagnosis.unique())))\n",
    "print(\"Data has {} unique ItemDescriptions\".format(len(p2data.ItemDescription.unique())))\n",
    "print(\"Data has {} unique PreventiveFlags:{} \\n {}\".format(len(p2data.PreventiveFlag.unique()),\n",
    "                                                           p2data.PreventiveFlag.unique(), \n",
    "                                                           p2data.PreventiveFlag.value_counts()))\n",
    "print(\"Data has {} null PreventiveFlags\\n\".format(p2data.PreventiveFlag.isnull().sum()))\n",
    "p2data.head()"
   ]
  },
  {
   "cell_type": "markdown",
   "metadata": {},
   "source": [
    "---\n",
    "## Part 1 – Preparing a usable dataset\n",
    "\n",
    "- When we receive invoice data from our customers, it is structured by line item. \n",
    "- Trupanion then aggregates one or many line items to a higher level category for payment or denial. \n",
    "- One of our end goals is to automate this line item grouping by categorizing each invoice line item. \n",
    "- In order to do so, we must essentially undo that aggregation, so you must first map each line item to the appropriate group. \n",
    "- Our labels (in file ...labels) must be linked to our features (in file ...lineitems)."
   ]
  },
  {
   "cell_type": "markdown",
   "metadata": {},
   "source": [
    "Use the files named p1_labels.csv and p1_lineitems.csv to map as many line item data ids to labeled ids as possible.\n",
    "Hints:\n",
    "- “ClaimId” is a common index shared between the csvs\n",
    "- The expected solution is a list of mappings from id_lineitem to id_labeled\n",
    "- Not all line item data ids can be mapped\n",
    "- Submit your work alongside your solution\n",
    "    - We typically use python/jupyter notebook, but any similar language or tool is acceptable \n",
    "- I’ve included a “features” column as a reminder of our end goal – nothing needs to be done with it"
   ]
  },
  {
   "cell_type": "code",
   "execution_count": 6,
   "metadata": {},
   "outputs": [
    {
     "name": "stdout",
     "output_type": "stream",
     "text": [
      "(30930, 6) \n",
      "There were 9 records not matched from the data table\n"
     ]
    },
    {
     "data": {
      "text/html": [
       "<div>\n",
       "<style scoped>\n",
       "    .dataframe tbody tr th:only-of-type {\n",
       "        vertical-align: middle;\n",
       "    }\n",
       "\n",
       "    .dataframe tbody tr th {\n",
       "        vertical-align: top;\n",
       "    }\n",
       "\n",
       "    .dataframe thead th {\n",
       "        text-align: right;\n",
       "    }\n",
       "</style>\n",
       "<table border=\"1\" class=\"dataframe\">\n",
       "  <thead>\n",
       "    <tr style=\"text-align: right;\">\n",
       "      <th></th>\n",
       "      <th>ClaimId</th>\n",
       "      <th>id_lineitem</th>\n",
       "      <th>amt_lineitem</th>\n",
       "      <th>features</th>\n",
       "      <th>id_labeled</th>\n",
       "      <th>amt_labeled</th>\n",
       "    </tr>\n",
       "  </thead>\n",
       "  <tbody>\n",
       "    <tr>\n",
       "      <th>30921</th>\n",
       "      <td>190</td>\n",
       "      <td>NaN</td>\n",
       "      <td>NaN</td>\n",
       "      <td>NaN</td>\n",
       "      <td>425</td>\n",
       "      <td>0.00</td>\n",
       "    </tr>\n",
       "    <tr>\n",
       "      <th>30922</th>\n",
       "      <td>821</td>\n",
       "      <td>NaN</td>\n",
       "      <td>NaN</td>\n",
       "      <td>NaN</td>\n",
       "      <td>1633</td>\n",
       "      <td>0.00</td>\n",
       "    </tr>\n",
       "    <tr>\n",
       "      <th>30923</th>\n",
       "      <td>1413</td>\n",
       "      <td>NaN</td>\n",
       "      <td>NaN</td>\n",
       "      <td>NaN</td>\n",
       "      <td>2753</td>\n",
       "      <td>0.00</td>\n",
       "    </tr>\n",
       "    <tr>\n",
       "      <th>30924</th>\n",
       "      <td>1669</td>\n",
       "      <td>NaN</td>\n",
       "      <td>NaN</td>\n",
       "      <td>NaN</td>\n",
       "      <td>3217</td>\n",
       "      <td>0.00</td>\n",
       "    </tr>\n",
       "    <tr>\n",
       "      <th>30925</th>\n",
       "      <td>1868</td>\n",
       "      <td>NaN</td>\n",
       "      <td>NaN</td>\n",
       "      <td>NaN</td>\n",
       "      <td>3597</td>\n",
       "      <td>94.28</td>\n",
       "    </tr>\n",
       "    <tr>\n",
       "      <th>30926</th>\n",
       "      <td>1868</td>\n",
       "      <td>NaN</td>\n",
       "      <td>NaN</td>\n",
       "      <td>NaN</td>\n",
       "      <td>3598</td>\n",
       "      <td>50.92</td>\n",
       "    </tr>\n",
       "    <tr>\n",
       "      <th>30927</th>\n",
       "      <td>1893</td>\n",
       "      <td>NaN</td>\n",
       "      <td>NaN</td>\n",
       "      <td>NaN</td>\n",
       "      <td>3645</td>\n",
       "      <td>0.00</td>\n",
       "    </tr>\n",
       "    <tr>\n",
       "      <th>30928</th>\n",
       "      <td>1898</td>\n",
       "      <td>NaN</td>\n",
       "      <td>NaN</td>\n",
       "      <td>NaN</td>\n",
       "      <td>3656</td>\n",
       "      <td>0.00</td>\n",
       "    </tr>\n",
       "    <tr>\n",
       "      <th>30929</th>\n",
       "      <td>2209</td>\n",
       "      <td>NaN</td>\n",
       "      <td>NaN</td>\n",
       "      <td>NaN</td>\n",
       "      <td>4214</td>\n",
       "      <td>0.00</td>\n",
       "    </tr>\n",
       "  </tbody>\n",
       "</table>\n",
       "</div>"
      ],
      "text/plain": [
       "       ClaimId  id_lineitem  amt_lineitem features  id_labeled  amt_labeled\n",
       "30921      190          NaN           NaN      NaN         425         0.00\n",
       "30922      821          NaN           NaN      NaN        1633         0.00\n",
       "30923     1413          NaN           NaN      NaN        2753         0.00\n",
       "30924     1669          NaN           NaN      NaN        3217         0.00\n",
       "30925     1868          NaN           NaN      NaN        3597        94.28\n",
       "30926     1868          NaN           NaN      NaN        3598        50.92\n",
       "30927     1893          NaN           NaN      NaN        3645         0.00\n",
       "30928     1898          NaN           NaN      NaN        3656         0.00\n",
       "30929     2209          NaN           NaN      NaN        4214         0.00"
      ]
     },
     "execution_count": 6,
     "metadata": {},
     "output_type": "execute_result"
    }
   ],
   "source": [
    "# Merge by ClaimID, If there is no match, the missing side will contain null. \n",
    "df = pd.merge(items, labels, on='ClaimId', how='outer')\n",
    "print(df.shape,\"\\nThere were {} records not matched from the data table\".format(df.isnull().sum().features))\n",
    "df.loc[df.id_lineitem.isnull()]"
   ]
  },
  {
   "cell_type": "code",
   "execution_count": 7,
   "metadata": {},
   "outputs": [
    {
     "name": "stdout",
     "output_type": "stream",
     "text": [
      "(30921, 6)\n"
     ]
    },
    {
     "data": {
      "text/html": [
       "<div>\n",
       "<style scoped>\n",
       "    .dataframe tbody tr th:only-of-type {\n",
       "        vertical-align: middle;\n",
       "    }\n",
       "\n",
       "    .dataframe tbody tr th {\n",
       "        vertical-align: top;\n",
       "    }\n",
       "\n",
       "    .dataframe thead th {\n",
       "        text-align: right;\n",
       "    }\n",
       "</style>\n",
       "<table border=\"1\" class=\"dataframe\">\n",
       "  <thead>\n",
       "    <tr style=\"text-align: right;\">\n",
       "      <th></th>\n",
       "      <th>ClaimId</th>\n",
       "      <th>id_lineitem</th>\n",
       "      <th>amt_lineitem</th>\n",
       "      <th>features</th>\n",
       "      <th>id_labeled</th>\n",
       "      <th>amt_labeled</th>\n",
       "    </tr>\n",
       "  </thead>\n",
       "  <tbody>\n",
       "    <tr>\n",
       "      <th>0</th>\n",
       "      <td>1</td>\n",
       "      <td>1</td>\n",
       "      <td>105.00</td>\n",
       "      <td>x</td>\n",
       "      <td>1</td>\n",
       "      <td>301.54</td>\n",
       "    </tr>\n",
       "    <tr>\n",
       "      <th>1</th>\n",
       "      <td>1</td>\n",
       "      <td>1</td>\n",
       "      <td>105.00</td>\n",
       "      <td>x</td>\n",
       "      <td>2</td>\n",
       "      <td>105.00</td>\n",
       "    </tr>\n",
       "    <tr>\n",
       "      <th>2</th>\n",
       "      <td>1</td>\n",
       "      <td>2</td>\n",
       "      <td>105.94</td>\n",
       "      <td>x</td>\n",
       "      <td>1</td>\n",
       "      <td>301.54</td>\n",
       "    </tr>\n",
       "    <tr>\n",
       "      <th>3</th>\n",
       "      <td>1</td>\n",
       "      <td>2</td>\n",
       "      <td>105.94</td>\n",
       "      <td>x</td>\n",
       "      <td>2</td>\n",
       "      <td>105.00</td>\n",
       "    </tr>\n",
       "    <tr>\n",
       "      <th>4</th>\n",
       "      <td>1</td>\n",
       "      <td>3</td>\n",
       "      <td>12.24</td>\n",
       "      <td>x</td>\n",
       "      <td>1</td>\n",
       "      <td>301.54</td>\n",
       "    </tr>\n",
       "  </tbody>\n",
       "</table>\n",
       "</div>"
      ],
      "text/plain": [
       "   ClaimId  id_lineitem  amt_lineitem features  id_labeled  amt_labeled\n",
       "0        1            1        105.00        x           1       301.54\n",
       "1        1            1        105.00        x           2       105.00\n",
       "2        1            2        105.94        x           1       301.54\n",
       "3        1            2        105.94        x           2       105.00\n",
       "4        1            3         12.24        x           1       301.54"
      ]
     },
     "execution_count": 7,
     "metadata": {},
     "output_type": "execute_result"
    }
   ],
   "source": [
    "# Lets remove them for now\n",
    "df = pd.merge(items, labels, on='ClaimId', how='inner')\n",
    "print(df.shape)\n",
    "df.head()"
   ]
  },
  {
   "cell_type": "markdown",
   "metadata": {},
   "source": [
    "---\n",
    "## Part 2 – Build a text classifier\n",
    "\n",
    "Description:\n",
    "- Our product does not cover routine, wellness or preventive care. \n",
    "- We believe that costs that pet owners can expect periodically and budget for should be separate from an insurance policy meant to cover accidents and illnesses.\n",
    "- Use the data contained in p2_data.csv to build a binary classifier to predict the “PreventiveFlag” label using the text features provided. \n",
    "- This model can be used to automate the detection of ineligible line items. \n",
    "- The expected output are prediction probabilities for rows 10001 through 11000, where the labels are currently null.\n"
   ]
  },
  {
   "cell_type": "code",
   "execution_count": 3,
   "metadata": {},
   "outputs": [
    {
     "name": "stdout",
     "output_type": "stream",
     "text": [
      "(10000, 3)\n"
     ]
    },
    {
     "data": {
      "text/html": [
       "<div>\n",
       "<style scoped>\n",
       "    .dataframe tbody tr th:only-of-type {\n",
       "        vertical-align: middle;\n",
       "    }\n",
       "\n",
       "    .dataframe tbody tr th {\n",
       "        vertical-align: top;\n",
       "    }\n",
       "\n",
       "    .dataframe thead th {\n",
       "        text-align: right;\n",
       "    }\n",
       "</style>\n",
       "<table border=\"1\" class=\"dataframe\">\n",
       "  <thead>\n",
       "    <tr style=\"text-align: right;\">\n",
       "      <th></th>\n",
       "      <th>ItemDescription</th>\n",
       "      <th>Diagnosis</th>\n",
       "      <th>PreventiveFlag</th>\n",
       "    </tr>\n",
       "    <tr>\n",
       "      <th>id</th>\n",
       "      <th></th>\n",
       "      <th></th>\n",
       "      <th></th>\n",
       "    </tr>\n",
       "  </thead>\n",
       "  <tbody>\n",
       "    <tr>\n",
       "      <th>1</th>\n",
       "      <td>Six:  Urgent Care Exam - Daytime (8am-6pm)</td>\n",
       "      <td>colitis</td>\n",
       "      <td>0.0</td>\n",
       "    </tr>\n",
       "    <tr>\n",
       "      <th>2</th>\n",
       "      <td>Jafar:  Office Visit/Physical Exam</td>\n",
       "      <td>Stomach Issues</td>\n",
       "      <td>0.0</td>\n",
       "    </tr>\n",
       "    <tr>\n",
       "      <th>3</th>\n",
       "      <td>Jafar:  Fecal Smears</td>\n",
       "      <td>Stomach Issues</td>\n",
       "      <td>0.0</td>\n",
       "    </tr>\n",
       "    <tr>\n",
       "      <th>4</th>\n",
       "      <td>Jafar:  metronidazole 50mg</td>\n",
       "      <td>Stomach Issues</td>\n",
       "      <td>0.0</td>\n",
       "    </tr>\n",
       "    <tr>\n",
       "      <th>5</th>\n",
       "      <td>Jafar:  Fecal analysis for parasites</td>\n",
       "      <td>Stomach Issues</td>\n",
       "      <td>0.0</td>\n",
       "    </tr>\n",
       "  </tbody>\n",
       "</table>\n",
       "</div>"
      ],
      "text/plain": [
       "                               ItemDescription        Diagnosis  \\\n",
       "id                                                                \n",
       "1   Six:  Urgent Care Exam - Daytime (8am-6pm)         colitis    \n",
       "2           Jafar:  Office Visit/Physical Exam  Stomach Issues    \n",
       "3                        Jafar:  Fecal Smears   Stomach Issues    \n",
       "4                   Jafar:  metronidazole 50mg  Stomach Issues    \n",
       "5         Jafar:  Fecal analysis for parasites  Stomach Issues    \n",
       "\n",
       "    PreventiveFlag  \n",
       "id                  \n",
       "1              0.0  \n",
       "2              0.0  \n",
       "3              0.0  \n",
       "4              0.0  \n",
       "5              0.0  "
      ]
     },
     "execution_count": 3,
     "metadata": {},
     "output_type": "execute_result"
    }
   ],
   "source": [
    "data = p2data.loc[p2data.PreventiveFlag.notnull()]\n",
    "# data = data.sample(frac=0.05)\n",
    "\n",
    "print(data.shape)\n",
    "data.head()"
   ]
  },
  {
   "cell_type": "markdown",
   "metadata": {},
   "source": [
    "### EDA"
   ]
  },
  {
   "cell_type": "code",
   "execution_count": 4,
   "metadata": {},
   "outputs": [],
   "source": [
    "from nltk import sent_tokenize, word_tokenize\n",
    "from time import time\n",
    "import warnings\n",
    "warnings.filterwarnings('ignore')"
   ]
  },
  {
   "cell_type": "code",
   "execution_count": 113,
   "metadata": {},
   "outputs": [
    {
     "name": "stdout",
     "output_type": "stream",
     "text": [
      "0.0678 Label 1 vs 0.9322 Label 0\n"
     ]
    }
   ],
   "source": [
    "# Is the data balanced? \n",
    "label_true = data.PreventiveFlag.value_counts()[1]\n",
    "label_false = data.PreventiveFlag.value_counts()[0]\n",
    "print(\"{} Label 1 vs {} Label 0\".format(str(label_true/(label_false+label_true)),\n",
    "                         str(label_false/(label_false+label_true))))\n"
   ]
  },
  {
   "cell_type": "code",
   "execution_count": 114,
   "metadata": {},
   "outputs": [],
   "source": [
    "## ----  Statistics\n",
    "# Length of ItemDescription\n",
    "ItemDescription_lengths = [len(item[1].ItemDescription) for item in data.iterrows()]\n",
    "Diagnosis_lengths = [len(item[1].Diagnosis) for item in data.iterrows()]\n",
    "\n",
    "# Distribution of number of sentences in Item Descriptions: \n",
    "sentence_count_per_item = [len(sent_tokenize(item[1].ItemDescription)) for item in data.iterrows()]\n",
    "sentence_count_per_diagnosis = [len(sent_tokenize(item[1].Diagnosis)) for item in data.iterrows()]\n",
    "\n",
    "# Word count in ItemDescription\n",
    "ItemDescription_word_count = [len(word_tokenize(item[1].ItemDescription)) for item in data.iterrows()]\n",
    "Diagnosis_word_count = [len(word_tokenize(item[1].Diagnosis)) for item in data.iterrows()]"
   ]
  },
  {
   "cell_type": "code",
   "execution_count": 115,
   "metadata": {},
   "outputs": [
    {
     "data": {
      "image/png": "[encoded data removed]",
      "text/plain": [
       "<matplotlib.figure.Figure at 0x1a31be5080>"
      ]
     },
     "metadata": {},
     "output_type": "display_data"
    },
    {
     "name": "stdout",
     "output_type": "stream",
     "text": [
      "293.96268486976624\n"
     ]
    }
   ],
   "source": [
    "# create 3 subplots (horizontally stacked)    ~ 293 s\n",
    "start = time()\n",
    "f, axarr = plt.subplots(1,3,figsize=(20,4))\n",
    "\n",
    "sns.distplot(ItemDescription_lengths, bins=10, rug=True, ax=axarr[0], label=\"length\")\n",
    "sns.distplot(sentence_count_per_item, bins=10, rug=True, ax=axarr[1], label=\"sentence count\")\n",
    "sns.distplot(ItemDescription_word_count, bins=10, ax=axarr[2], rug=True, label=\"word count\")\n",
    "plt.legend()\n",
    "plt.show()\n",
    "print(time()-start)"
   ]
  },
  {
   "cell_type": "code",
   "execution_count": 116,
   "metadata": {},
   "outputs": [
    {
     "name": "stdout",
     "output_type": "stream",
     "text": [
      "Cooper Tru50:  Fenbendazol(Panacur)222mg/gGran(p#D\n",
      "Grizzly:  NPD - NeoPoly Dex. Oph. Oint. #53149\n",
      "Cooper Max:  CYTOPOINT 40.0-50#(1(10 mg) 1(40 mg))\n"
     ]
    }
   ],
   "source": [
    "# Check out the longest Item Descriptions: \n",
    "indices = [i for i, x in enumerate(ItemDescription_lengths) if x == max(ItemDescription_lengths)]\n",
    "print(data.iloc[indices[0]].ItemDescription)\n",
    "\n",
    "# Check out the Item Descriptions with the most number of dots:\n",
    "indices = [i for i, x in enumerate(sentence_count_per_item) if x == max(sentence_count_per_item)]\n",
    "print(data.iloc[indices[0]].ItemDescription)\n",
    "\n",
    "# Check out those with max word count\n",
    "indices = [i for i, x in enumerate(ItemDescription_word_count) if x == max(ItemDescription_word_count)]\n",
    "print(data.iloc[indices[0]].ItemDescription)"
   ]
  },
  {
   "cell_type": "code",
   "execution_count": 117,
   "metadata": {},
   "outputs": [
    {
     "data": {
      "image/png": "[encoded data removed]",
      "text/plain": [
       "<matplotlib.figure.Figure at 0x1a56721630>"
      ]
     },
     "metadata": {},
     "output_type": "display_data"
    },
    {
     "name": "stdout",
     "output_type": "stream",
     "text": [
      "316.9646248817444\n"
     ]
    }
   ],
   "source": [
    "# create 3 subplots (horizontally stacked)   ~ 316s \n",
    "start = time()\n",
    "f, axarr = plt.subplots(1,3,figsize=(20,4))\n",
    "\n",
    "sns.distplot(Diagnosis_lengths, bins=10, rug=True, ax=axarr[0], label=\"length\")\n",
    "sns.distplot(sentence_count_per_diagnosis, bins=10, rug=True, ax=axarr[1], label=\"sentence count\")\n",
    "sns.distplot(Diagnosis_word_count, bins=10, ax=axarr[2], rug=True, label=\"word count\")\n",
    "plt.legend()\n",
    "plt.show()\n",
    "print(time()-start)"
   ]
  },
  {
   "cell_type": "code",
   "execution_count": 156,
   "metadata": {},
   "outputs": [
    {
     "name": "stdout",
     "output_type": "stream",
     "text": [
      "immune mediated polyarthritis bar happier and interactive today ulcerated erythema skin nose and rostral muzzle jt swelling over hocks stifles and carpi significantly reduced waxy erythema au spots of erythema inner pinna muzzle nose ulceration erythema r o immunemediated rxn to fluroquinolones open stop baytril and osurnia use flush out osurnia from ears stop tx for ears for now continue pred as directed a o will need taper depending on response recheck pe and labs health chek in 2 wks add vit e and \n",
      "\n",
      "vomiting \n",
      "\n",
      "immune mediated polyarthritis bar happier and interactive today ulcerated erythema skin nose and rostral muzzle jt swelling over hocks stifles and carpi significantly reduced waxy erythema au spots of erythema inner pinna muzzle nose ulceration erythema r o immunemediated rxn to fluroquinolones open stop baytril and osurnia use flush out osurnia from ears stop tx for ears for now continue pred as directed a o will need taper depending on response recheck pe and labs health chek in 2 wks add vit e and\n"
     ]
    }
   ],
   "source": [
    "# Check out the longest Item Descriptions: \n",
    "indices = [i for i, x in enumerate(Diagnosis_lengths) if x == max(Diagnosis_lengths)]\n",
    "print(data.iloc[indices[0]].Diagnosis, '\\n')\n",
    "\n",
    "# Check out the Item Descriptions with the most number of dots:\n",
    "indices = [i for i, x in enumerate(sentence_count_per_diagnosis) if x == max(sentence_count_per_diagnosis)]\n",
    "print(data.iloc[indices[0]].Diagnosis, '\\n')\n",
    "\n",
    "# Check out those with max word count\n",
    "indices = [i for i, x in enumerate(Diagnosis_word_count) if x == max(Diagnosis_word_count)]\n",
    "print(data.iloc[indices[0]].Diagnosis)\n"
   ]
  },
  {
   "cell_type": "code",
   "execution_count": null,
   "metadata": {},
   "outputs": [],
   "source": [
    "data['ItemDescription'] = data.ItemDescription.apply(remove_punctuation2)\n",
    "data['Diagnosis'] = data.Diagnosis.apply(remove_punctuation1)\n",
    "data.head()"
   ]
  },
  {
   "cell_type": "code",
   "execution_count": null,
   "metadata": {},
   "outputs": [],
   "source": [
    "# Stemming or Lemmatization?\n",
    "stemmer = PorterStemmer()\n",
    "data['ItemDescription'] = data.ItemDescription.apply(lambda text: \" \".join([stemmer.stem(word) for word in text.split()]))\n",
    "data['Diagnosis'] = data.Diagnosis.apply(lambda text: \" \".join([stemmer.stem(word) for word in text.split()]))\n",
    "\n",
    "lemmer = WordNetLemmatizer()\n",
    "# data['ItemDescription'] = data.ItemDescription.apply(lambda text: \" \".join([lemmer.lemmatize(word, pos=\"v\") for word in text.split()]))\n",
    "# data['Diagnosis'] = data.Diagnosis.apply(lambda text: \" \".join([lemmer.lemmatize(word, pos=\"v\") for word in text.split()]))\n",
    "data.head()\n",
    "# # Remove stopwords in diagnosis... maybe"
   ]
  },
  {
   "cell_type": "markdown",
   "metadata": {},
   "source": [
    "### Preprocessing"
   ]
  },
  {
   "cell_type": "code",
   "execution_count": 9,
   "metadata": {},
   "outputs": [
    {
     "name": "stdout",
     "output_type": "stream",
     "text": [
      "[nltk_data] Downloading package wordnet to /Users/iZbra1/nltk_data...\n",
      "[nltk_data]   Package wordnet is already up-to-date!\n"
     ]
    },
    {
     "data": {
      "text/plain": [
       "True"
      ]
     },
     "execution_count": 9,
     "metadata": {},
     "output_type": "execute_result"
    }
   ],
   "source": [
    "from nltk.stem.porter import PorterStemmer\n",
    "from nltk.stem import WordNetLemmatizer\n",
    "from sklearn.feature_extraction.text import CountVectorizer\n",
    "from sklearn.feature_extraction.text import TfidfTransformer\n",
    "from sklearn.pipeline import Pipeline\n",
    "nltk.download('wordnet')"
   ]
  },
  {
   "cell_type": "code",
   "execution_count": 7,
   "metadata": {},
   "outputs": [],
   "source": [
    "# Replace slash with space\n",
    "# Remove punctuation and extra spaces\n",
    "# Convert to lower case ?? Not the Item Description, yes for diagnosis\n",
    "def remove_punctuation1(i_desc):\n",
    "    pattern = r\"[^\\w\\s]\"\n",
    "    idesc = re.sub(r\"/\", ' ', i_desc).lower()\n",
    "    return \" \".join(re.sub(pattern, '', idesc).split()) \n",
    "\n",
    "# Just word_tokenize: for ItemDescription\n",
    "# The first word on the IDesc is a proper name. \n",
    "def remove_punctuation2(i_desc):\n",
    "    return \" \".join(word_tokenize(i_desc))\n",
    "\n",
    "def preprocessing(df):\n",
    "    \n",
    "    # Remove punctuation\n",
    "    df['ItemDescription'] = df.ItemDescription.apply(remove_punctuation2)\n",
    "    df['Diagnosis'] = df.Diagnosis.apply(remove_punctuation1)\n",
    "    \n",
    "    # Stemming\n",
    "    stemmer = PorterStemmer()\n",
    "    df['ItemDescription'] = df.ItemDescription.apply(lambda text: \" \".join([stemmer.stem(word) for word in text.split()]))\n",
    "    df['Diagnosis'] = df.Diagnosis.apply(lambda text: \" \".join([stemmer.stem(word) for word in text.split()]))\n",
    "    \n",
    "    return df.ItemDescription.values + \" \" + df.Diagnosis.values\n",
    "    \n",
    "def vectorizer(train, corpus_all, vectorizer_count, vectorizer_tf):\n",
    "    \n",
    "    # Model: \n",
    "    #  vectorizer.vocabulary_\n",
    "    #  vectorizer.get_feature_names()\n",
    "    \n",
    "    if train:\n",
    "        vectorizer_count = CountVectorizer(token_pattern='[a-zA-Z]{2,}', stop_words='english')\n",
    "        one_hot = vectorizer_count.fit_transform(corpus_all)\n",
    "    else: \n",
    "        vectorizer_count._validate_vocabulary()\n",
    "        one_hot = vectorizer_count.transform(corpus_all)\n",
    "    \n",
    "    # TFIDF\n",
    "    # Term frequency: this summarizes how often a given word appears within a document\n",
    "    # Inverse document frequency: This downscales words that appear a lot across documents\n",
    "    # Transforming the matrix based on the learnt frequencies or weights\n",
    "    # vectorizer_tf.idf_\n",
    "    \n",
    "    if train:\n",
    "        vectorizer_tf = TfidfTransformer()\n",
    "        freq = vectorizer_tf.fit_transform(one_hot)\n",
    "    else: \n",
    "        freq = vectorizer_tf.transform(one_hot)\n",
    "    \n",
    "    return freq.toarray(), vectorizer_count, vectorizer_tf"
   ]
  },
  {
   "cell_type": "code",
   "execution_count": 8,
   "metadata": {},
   "outputs": [],
   "source": [
    "# Splitting the dataset and Preprocessing\n",
    "\n",
    "test = p2data.loc[p2data.PreventiveFlag.isnull()]\n",
    "data = p2data.loc[p2data.PreventiveFlag.notnull()]\n",
    "\n",
    "msk = np.random.rand(len(data)) < 0.8\n",
    "\n",
    "train = preprocessing(data[msk])\n",
    "validation = preprocessing(data[~msk])\n",
    "\n"
   ]
  },
  {
   "cell_type": "markdown",
   "metadata": {},
   "source": [
    "### Option A"
   ]
  },
  {
   "cell_type": "code",
   "execution_count": 28,
   "metadata": {},
   "outputs": [],
   "source": [
    "# Pipeline\n",
    "from sklearn.naive_bayes import MultinomialNB\n",
    "from sklearn.feature_extraction.text import TfidfVectorizer\n",
    "\n",
    "X_train = train\n",
    "y_train = data[msk].PreventiveFlag.values\n",
    "\n",
    "\n",
    "X_val = validation\n",
    "y_val = data[~msk].PreventiveFlag.values\n",
    "\n",
    "clf = Pipeline([('v_tfid', TfidfVectorizer()),\n",
    "                ('clf', SGDClassifier(random_state=42))])"
   ]
  },
  {
   "cell_type": "markdown",
   "metadata": {},
   "source": [
    "### Option B"
   ]
  },
  {
   "cell_type": "code",
   "execution_count": null,
   "metadata": {},
   "outputs": [],
   "source": [
    "X_train, vc, vt = vectorizer(True, train, False, False)\n",
    "y_train = data[msk].PreventiveFlag.values\n",
    "\n",
    "X_val, vc, vt = vectorizer(False, validation, vc, vt)\n",
    "y_val = data[~msk].PreventiveFlag.values\n",
    "\n",
    "print(X_train.shape, y_train.shape, X_val.shape, y_val.shape)"
   ]
  },
  {
   "cell_type": "markdown",
   "metadata": {},
   "source": [
    "### Training and Evaluation: "
   ]
  },
  {
   "cell_type": "code",
   "execution_count": 17,
   "metadata": {},
   "outputs": [],
   "source": [
    "from sklearn.model_selection import cross_val_predict, cross_val_score\n",
    "from sklearn.metrics import roc_curve, roc_auc_score, precision_recall_curve, \\\n",
    "                            mean_squared_error, accuracy_score, f1_score, \\\n",
    "                            precision_score, recall_score\n",
    "from sklearn import metrics\n",
    "from sklearn.dummy import DummyClassifier\n",
    "from sklearn.linear_model import LogisticRegression\n",
    "from sklearn.naive_bayes import MultinomialNB\n",
    "from sklearn.linear_model import SGDClassifier\n",
    "from sklearn.tree import DecisionTreeClassifier\n",
    "\n",
    "# clf = LogisticRegression(random_state=42).fit(X_train, y_train) # ~11s\n",
    "# clf = MultinomialNB().fit(X_train, y_train)\n",
    "# clf = SGDClassifier(random_state=42).fit(X_train, y_train) # ~ 13s\n",
    "# clf = DecisionTreeClassifier(max_depth=2, random_state=42).fit(X_train, y_train) # ~ 40s\n",
    "\n"
   ]
  },
  {
   "cell_type": "code",
   "execution_count": 29,
   "metadata": {},
   "outputs": [],
   "source": [
    "# Option A\n",
    "clf.fit(X_train, y_train)\n",
    "y_val_pred = clf.predict(X_val)"
   ]
  },
  {
   "cell_type": "code",
   "execution_count": null,
   "metadata": {},
   "outputs": [],
   "source": [
    "# Option B\n",
    "clf = DummyClassifier().fit(X_train, y_train) # ~ 6s\n",
    "y_val_pred = clf.predict(X_val)"
   ]
  },
  {
   "cell_type": "code",
   "execution_count": 30,
   "metadata": {},
   "outputs": [
    {
     "name": "stdout",
     "output_type": "stream",
     "text": [
      "2.2466912269592285\n"
     ]
    }
   ],
   "source": [
    "\n",
    "\n",
    "start = time()\n",
    "\n",
    "\n",
    "# These predictions can then be used to evaluate the classifier:\n",
    "\n",
    "y_train_scores = cross_val_score(clf, X_train, y_train, cv=10)\n",
    "y_train_pred = cross_val_predict(clf, X_train, y_train, cv=10)\n",
    "\n",
    "print(time()-start)"
   ]
  },
  {
   "cell_type": "code",
   "execution_count": 31,
   "metadata": {},
   "outputs": [
    {
     "name": "stdout",
     "output_type": "stream",
     "text": [
      "With weighted-average:\n",
      "             precision    recall  f1-score   support\n",
      "\n",
      "    class 0       0.98      0.99      0.98      7420\n",
      "    class 1       0.85      0.64      0.73       519\n",
      "\n",
      "avg / total       0.97      0.97      0.97      7939\n",
      "\n"
     ]
    },
    {
     "data": {
      "text/html": [
       "<div>\n",
       "<style scoped>\n",
       "    .dataframe tbody tr th:only-of-type {\n",
       "        vertical-align: middle;\n",
       "    }\n",
       "\n",
       "    .dataframe tbody tr th {\n",
       "        vertical-align: top;\n",
       "    }\n",
       "\n",
       "    .dataframe thead th {\n",
       "        text-align: right;\n",
       "    }\n",
       "</style>\n",
       "<table border=\"1\" class=\"dataframe\">\n",
       "  <thead>\n",
       "    <tr style=\"text-align: right;\">\n",
       "      <th></th>\n",
       "      <th>AUC</th>\n",
       "      <th>Acc</th>\n",
       "      <th>F1_C0</th>\n",
       "      <th>F1_C1</th>\n",
       "      <th>MSE</th>\n",
       "      <th>Prec_C0</th>\n",
       "      <th>Prec_C1</th>\n",
       "      <th>Recal_C0</th>\n",
       "      <th>Recal_C1</th>\n",
       "    </tr>\n",
       "  </thead>\n",
       "  <tbody>\n",
       "    <tr>\n",
       "      <th>Training</th>\n",
       "      <td>0.815</td>\n",
       "      <td>0.969</td>\n",
       "      <td>0.984</td>\n",
       "      <td>0.729</td>\n",
       "      <td>0.031</td>\n",
       "      <td>0.975</td>\n",
       "      <td>0.851</td>\n",
       "      <td>0.992</td>\n",
       "      <td>0.638</td>\n",
       "    </tr>\n",
       "  </tbody>\n",
       "</table>\n",
       "</div>"
      ],
      "text/plain": [
       "            AUC    Acc  F1_C0  F1_C1    MSE  Prec_C0  Prec_C1  Recal_C0  \\\n",
       "Training  0.815  0.969  0.984  0.729  0.031    0.975    0.851     0.992   \n",
       "\n",
       "          Recal_C1  \n",
       "Training     0.638  "
      ]
     },
     "execution_count": 31,
     "metadata": {},
     "output_type": "execute_result"
    }
   ],
   "source": [
    "# Evaluation Metrics:\n",
    "train_acc = round(y_train_scores.mean(),3)\n",
    "train_roc = round(roc_auc_score(y_train, y_train_pred),3)\n",
    "train_mse = round(mean_squared_error(y_train, y_train_pred),3)\n",
    "train_prec = precision_score(y_train, y_train_pred, average=None)\n",
    "train_recl = recall_score(y_train, y_train_pred, average=None)\n",
    "train_f1 = f1_score(y_train, y_train_pred, average=None)\n",
    "train_report = metrics.classification_report(y_train, y_train_pred, target_names=['class 0', 'class 1'])\n",
    "\n",
    "results = pd.DataFrame({'Acc':train_acc, \n",
    "                        'Prec_C0':round(train_prec[0],3),\n",
    "                        'Prec_C1':round(train_prec[1],3),\n",
    "                        'Recal_C0':round(train_recl[0],3),\n",
    "                        'Recal_C1':round(train_recl[1],3),\n",
    "                        'F1_C0':round(train_f1[0],3),\n",
    "                        'F1_C1':round(train_f1[1],3),\n",
    "                        'AUC':train_roc, \n",
    "                        'MSE':train_mse}, index=['Training'])\n",
    "\n",
    "\n",
    "print('With weighted-average:\\n{}'.format(train_report))\n",
    "results.head()"
   ]
  },
  {
   "cell_type": "code",
   "execution_count": 32,
   "metadata": {},
   "outputs": [
    {
     "data": {
      "image/png": "[encoded data removed]",
      "text/plain": [
       "<matplotlib.figure.Figure at 0x1a1d8a3f28>"
      ]
     },
     "metadata": {},
     "output_type": "display_data"
    }
   ],
   "source": [
    "def plot_curves(y_train, y_train_pred):\n",
    "    # create 2 subplots (horizontally stacked)\n",
    "\n",
    "    fpr, tpr, thresholds = roc_curve(y_train, y_train_pred)\n",
    "    precision, recall, f = precision_recall_curve(y_train, y_train_pred)\n",
    "\n",
    "    fig, axarr = plt.subplots(1,2,figsize=(15,4))\n",
    "\n",
    "    axarr[0].plot(f, precision[:-1], \"b--\", label=\"Precision\", linewidth=2)\n",
    "    axarr[0].plot(f, recall[:-1], \"g-\", label=\"Recall\", linewidth=2)\n",
    "    axarr[0].legend(loc=\"top\", fontsize=16)\n",
    "\n",
    "    # axarr[0].xlabel(\"Threshold\", fontsize=16)\n",
    "    # axarr[0].ylim([0, 1])\n",
    "\n",
    "    axarr[1].plot(fpr, tpr, linewidth=2, label='ROC')\n",
    "    axarr[1].plot([0, 1], [0, 1], 'k--')\n",
    "    axarr[1].axis([0, 1, 0, 1])\n",
    "    axarr[1].legend(loc=\"upper left\", fontsize=16)\n",
    "\n",
    "    plt.show()\n",
    "\n",
    "plot_curves(y_train, y_train_pred)"
   ]
  },
  {
   "cell_type": "markdown",
   "metadata": {},
   "source": [
    "#### Validation"
   ]
  },
  {
   "cell_type": "code",
   "execution_count": 33,
   "metadata": {},
   "outputs": [
    {
     "name": "stdout",
     "output_type": "stream",
     "text": [
      "With weighted-average:\n",
      "             precision    recall  f1-score   support\n",
      "\n",
      "    class 0       0.97      1.00      0.98      1902\n",
      "    class 1       0.92      0.65      0.76       159\n",
      "\n",
      "avg / total       0.97      0.97      0.97      2061\n",
      "\n"
     ]
    },
    {
     "data": {
      "text/html": [
       "<div>\n",
       "<style scoped>\n",
       "    .dataframe tbody tr th:only-of-type {\n",
       "        vertical-align: middle;\n",
       "    }\n",
       "\n",
       "    .dataframe tbody tr th {\n",
       "        vertical-align: top;\n",
       "    }\n",
       "\n",
       "    .dataframe thead th {\n",
       "        text-align: right;\n",
       "    }\n",
       "</style>\n",
       "<table border=\"1\" class=\"dataframe\">\n",
       "  <thead>\n",
       "    <tr style=\"text-align: right;\">\n",
       "      <th></th>\n",
       "      <th>AUC</th>\n",
       "      <th>Acc</th>\n",
       "      <th>F1_C0</th>\n",
       "      <th>F1_C1</th>\n",
       "      <th>MSE</th>\n",
       "      <th>Prec_C0</th>\n",
       "      <th>Prec_C1</th>\n",
       "      <th>Recal_C0</th>\n",
       "      <th>Recal_C1</th>\n",
       "    </tr>\n",
       "  </thead>\n",
       "  <tbody>\n",
       "    <tr>\n",
       "      <th>Training</th>\n",
       "      <td>0.815</td>\n",
       "      <td>0.969</td>\n",
       "      <td>0.984</td>\n",
       "      <td>0.729</td>\n",
       "      <td>0.031</td>\n",
       "      <td>0.975</td>\n",
       "      <td>0.851</td>\n",
       "      <td>0.992</td>\n",
       "      <td>0.638</td>\n",
       "    </tr>\n",
       "    <tr>\n",
       "      <th>Validation</th>\n",
       "      <td>0.825</td>\n",
       "      <td>0.969</td>\n",
       "      <td>0.983</td>\n",
       "      <td>0.765</td>\n",
       "      <td>0.031</td>\n",
       "      <td>0.972</td>\n",
       "      <td>0.920</td>\n",
       "      <td>0.995</td>\n",
       "      <td>0.654</td>\n",
       "    </tr>\n",
       "  </tbody>\n",
       "</table>\n",
       "</div>"
      ],
      "text/plain": [
       "              AUC    Acc  F1_C0  F1_C1    MSE  Prec_C0  Prec_C1  Recal_C0  \\\n",
       "Training    0.815  0.969  0.984  0.729  0.031    0.975    0.851     0.992   \n",
       "Validation  0.825  0.969  0.983  0.765  0.031    0.972    0.920     0.995   \n",
       "\n",
       "            Recal_C1  \n",
       "Training       0.638  \n",
       "Validation     0.654  "
      ]
     },
     "execution_count": 33,
     "metadata": {},
     "output_type": "execute_result"
    }
   ],
   "source": [
    "# Is it overfitting?\n",
    "val_acc = round(accuracy_score(y_val, y_val_pred),3)\n",
    "val_roc = round(roc_auc_score(y_val, y_val_pred),3)\n",
    "val_mse = round(mean_squared_error(y_val, y_val_pred),3)\n",
    "val_prec = precision_score(y_val, y_val_pred, average=None)\n",
    "val_recl = recall_score(y_val, y_val_pred, average=None)\n",
    "val_f1 = f1_score(y_val, y_val_pred, average=None)\n",
    "val_report = metrics.classification_report(y_val, y_val_pred, target_names=['class 0', 'class 1'])\n",
    "\n",
    "results = pd.concat([results, pd.DataFrame({'Acc':val_acc, \n",
    "                        'Prec_C0':round(val_prec[0],3),\n",
    "                        'Prec_C1':round(val_prec[1],3),\n",
    "                        'Recal_C0':round(val_recl[0],3),\n",
    "                        'Recal_C1':round(val_recl[1],3),\n",
    "                        'F1_C0':round(val_f1[0],3),\n",
    "                        'F1_C1':round(val_f1[1],3),\n",
    "                        'AUC':val_roc, \n",
    "                        'MSE':val_mse}, index=['Validation'])])\n",
    "\n",
    "\n",
    "print('With weighted-average:\\n{}'.format(val_report))\n",
    "results.head()\n"
   ]
  },
  {
   "cell_type": "code",
   "execution_count": 195,
   "metadata": {},
   "outputs": [
    {
     "data": {
      "image/png": "[encoded data removed]",
      "text/plain": [
       "<matplotlib.figure.Figure at 0x1a4d38b748>"
      ]
     },
     "metadata": {},
     "output_type": "display_data"
    }
   ],
   "source": [
    "plot_curves(y_val, y_val_pred)"
   ]
  },
  {
   "cell_type": "code",
   "execution_count": 141,
   "metadata": {
    "scrolled": true
   },
   "outputs": [
    {
     "data": {
      "image/png": "[encoded data removed]",
      "text/plain": [
       "<matplotlib.figure.Figure at 0x1a55e00748>"
      ]
     },
     "metadata": {},
     "output_type": "display_data"
    }
   ],
   "source": [
    "plt.matshow(metrics.confusion_matrix(y_val, predicted), cmap=plt.cm.hot)\n",
    "plt.colorbar()\n",
    "plt.show()"
   ]
  },
  {
   "cell_type": "markdown",
   "metadata": {},
   "source": [
    "# Answer: \n",
    "- Dealing with unbalanced dataset: \n",
    "    - Even up the training set: train the model with all of the minority class instances and an almost same amount of instances of the majority class. "
   ]
  },
  {
   "cell_type": "code",
   "execution_count": null,
   "metadata": {},
   "outputs": [],
   "source": [
    "\n",
    "\n",
    "X_test = preprocessing(test, False)\n",
    "y_test = test.PreventiveFlag.values"
   ]
  }
 ],
 "metadata": {
  "kernelspec": {
   "display_name": "Python 3",
   "language": "python",
   "name": "python3"
  },
  "language_info": {
   "codemirror_mode": {
    "name": "ipython",
    "version": 3
   },
   "file_extension": ".py",
   "mimetype": "text/x-python",
   "name": "python",
   "nbconvert_exporter": "python",
   "pygments_lexer": "ipython3",
   "version": "3.6.4"
  }
 },
 "nbformat": 4,
 "nbformat_minor": 2
}
