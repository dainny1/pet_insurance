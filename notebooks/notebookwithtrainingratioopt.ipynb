{
 "cells": [
  {
   "cell_type": "code",
   "execution_count": 1,
   "metadata": {},
   "outputs": [],
   "source": [
    "import pandas as pd\n",
    "import numpy as np\n",
    "import matplotlib.pyplot as plt\n",
    "import seaborn as sns\n",
    "import re\n",
    "import nltk\n",
    "%matplotlib inline\n"
   ]
  },
  {
   "cell_type": "code",
   "execution_count": 2,
   "metadata": {},
   "outputs": [
    {
     "name": "stdout",
     "output_type": "stream",
     "text": [
      "<class 'pandas.core.frame.DataFrame'>\n",
      "Int64Index: 11000 entries, 1 to 11000\n",
      "Data columns (total 3 columns):\n",
      "ItemDescription    11000 non-null object\n",
      "Diagnosis          11000 non-null object\n",
      "PreventiveFlag     10000 non-null float64\n",
      "dtypes: float64(1), object(2)\n",
      "memory usage: 343.8+ KB\n",
      "None\n",
      "\n",
      "Data has 2266 unique Diagnosis\n",
      "Data has 10475 unique ItemDescriptions\n",
      "Data has 3 unique PreventiveFlags:[ 0.  1. nan] \n",
      " 0.0    9322\n",
      "1.0     678\n",
      "Name: PreventiveFlag, dtype: int64\n",
      "Data has 1000 null PreventiveFlags\n",
      "\n"
     ]
    },
    {
     "data": {
      "text/html": [
       "<div>\n",
       "<style scoped>\n",
       "    .dataframe tbody tr th:only-of-type {\n",
       "        vertical-align: middle;\n",
       "    }\n",
       "\n",
       "    .dataframe tbody tr th {\n",
       "        vertical-align: top;\n",
       "    }\n",
       "\n",
       "    .dataframe thead th {\n",
       "        text-align: right;\n",
       "    }\n",
       "</style>\n",
       "<table border=\"1\" class=\"dataframe\">\n",
       "  <thead>\n",
       "    <tr style=\"text-align: right;\">\n",
       "      <th></th>\n",
       "      <th>ItemDescription</th>\n",
       "      <th>Diagnosis</th>\n",
       "      <th>PreventiveFlag</th>\n",
       "    </tr>\n",
       "    <tr>\n",
       "      <th>id</th>\n",
       "      <th></th>\n",
       "      <th></th>\n",
       "      <th></th>\n",
       "    </tr>\n",
       "  </thead>\n",
       "  <tbody>\n",
       "    <tr>\n",
       "      <th>1</th>\n",
       "      <td>Six:  Urgent Care Exam - Daytime (8am-6pm)</td>\n",
       "      <td>colitis</td>\n",
       "      <td>0.0</td>\n",
       "    </tr>\n",
       "    <tr>\n",
       "      <th>2</th>\n",
       "      <td>Jafar:  Office Visit/Physical Exam</td>\n",
       "      <td>Stomach Issues</td>\n",
       "      <td>0.0</td>\n",
       "    </tr>\n",
       "    <tr>\n",
       "      <th>3</th>\n",
       "      <td>Jafar:  Fecal Smears</td>\n",
       "      <td>Stomach Issues</td>\n",
       "      <td>0.0</td>\n",
       "    </tr>\n",
       "    <tr>\n",
       "      <th>4</th>\n",
       "      <td>Jafar:  metronidazole 50mg</td>\n",
       "      <td>Stomach Issues</td>\n",
       "      <td>0.0</td>\n",
       "    </tr>\n",
       "    <tr>\n",
       "      <th>5</th>\n",
       "      <td>Jafar:  Fecal analysis for parasites</td>\n",
       "      <td>Stomach Issues</td>\n",
       "      <td>0.0</td>\n",
       "    </tr>\n",
       "  </tbody>\n",
       "</table>\n",
       "</div>"
      ],
      "text/plain": [
       "                               ItemDescription        Diagnosis  \\\n",
       "id                                                                \n",
       "1   Six:  Urgent Care Exam - Daytime (8am-6pm)         colitis    \n",
       "2           Jafar:  Office Visit/Physical Exam  Stomach Issues    \n",
       "3                        Jafar:  Fecal Smears   Stomach Issues    \n",
       "4                   Jafar:  metronidazole 50mg  Stomach Issues    \n",
       "5         Jafar:  Fecal analysis for parasites  Stomach Issues    \n",
       "\n",
       "    PreventiveFlag  \n",
       "id                  \n",
       "1              0.0  \n",
       "2              0.0  \n",
       "3              0.0  \n",
       "4              0.0  \n",
       "5              0.0  "
      ]
     },
     "execution_count": 2,
     "metadata": {},
     "output_type": "execute_result"
    }
   ],
   "source": [
    "p2data = pd.read_csv('p2_data.csv', index_col = 0, encoding = \"ISO-8859-1\") #simplest text encoding\n",
    "print(p2data.info())\n",
    "print(\"\\nData has {} unique Diagnosis\".format(len(p2data.Diagnosis.unique())))\n",
    "print(\"Data has {} unique ItemDescriptions\".format(len(p2data.ItemDescription.unique())))\n",
    "print(\"Data has {} unique PreventiveFlags:{} \\n {}\".format(len(p2data.PreventiveFlag.unique()),\n",
    "                                                           p2data.PreventiveFlag.unique(), \n",
    "                                                           p2data.PreventiveFlag.value_counts()))\n",
    "print(\"Data has {} null PreventiveFlags\\n\".format(p2data.PreventiveFlag.isnull().sum()))\n",
    "p2data.head()"
   ]
  },
  {
   "cell_type": "code",
   "execution_count": 3,
   "metadata": {},
   "outputs": [
    {
     "name": "stdout",
     "output_type": "stream",
     "text": [
      "(10000, 3)\n"
     ]
    },
    {
     "data": {
      "text/html": [
       "<div>\n",
       "<style scoped>\n",
       "    .dataframe tbody tr th:only-of-type {\n",
       "        vertical-align: middle;\n",
       "    }\n",
       "\n",
       "    .dataframe tbody tr th {\n",
       "        vertical-align: top;\n",
       "    }\n",
       "\n",
       "    .dataframe thead th {\n",
       "        text-align: right;\n",
       "    }\n",
       "</style>\n",
       "<table border=\"1\" class=\"dataframe\">\n",
       "  <thead>\n",
       "    <tr style=\"text-align: right;\">\n",
       "      <th></th>\n",
       "      <th>ItemDescription</th>\n",
       "      <th>Diagnosis</th>\n",
       "      <th>PreventiveFlag</th>\n",
       "    </tr>\n",
       "    <tr>\n",
       "      <th>id</th>\n",
       "      <th></th>\n",
       "      <th></th>\n",
       "      <th></th>\n",
       "    </tr>\n",
       "  </thead>\n",
       "  <tbody>\n",
       "    <tr>\n",
       "      <th>1</th>\n",
       "      <td>Six:  Urgent Care Exam - Daytime (8am-6pm)</td>\n",
       "      <td>colitis</td>\n",
       "      <td>0.0</td>\n",
       "    </tr>\n",
       "    <tr>\n",
       "      <th>2</th>\n",
       "      <td>Jafar:  Office Visit/Physical Exam</td>\n",
       "      <td>Stomach Issues</td>\n",
       "      <td>0.0</td>\n",
       "    </tr>\n",
       "    <tr>\n",
       "      <th>3</th>\n",
       "      <td>Jafar:  Fecal Smears</td>\n",
       "      <td>Stomach Issues</td>\n",
       "      <td>0.0</td>\n",
       "    </tr>\n",
       "    <tr>\n",
       "      <th>4</th>\n",
       "      <td>Jafar:  metronidazole 50mg</td>\n",
       "      <td>Stomach Issues</td>\n",
       "      <td>0.0</td>\n",
       "    </tr>\n",
       "    <tr>\n",
       "      <th>5</th>\n",
       "      <td>Jafar:  Fecal analysis for parasites</td>\n",
       "      <td>Stomach Issues</td>\n",
       "      <td>0.0</td>\n",
       "    </tr>\n",
       "  </tbody>\n",
       "</table>\n",
       "</div>"
      ],
      "text/plain": [
       "                               ItemDescription        Diagnosis  \\\n",
       "id                                                                \n",
       "1   Six:  Urgent Care Exam - Daytime (8am-6pm)         colitis    \n",
       "2           Jafar:  Office Visit/Physical Exam  Stomach Issues    \n",
       "3                        Jafar:  Fecal Smears   Stomach Issues    \n",
       "4                   Jafar:  metronidazole 50mg  Stomach Issues    \n",
       "5         Jafar:  Fecal analysis for parasites  Stomach Issues    \n",
       "\n",
       "    PreventiveFlag  \n",
       "id                  \n",
       "1              0.0  \n",
       "2              0.0  \n",
       "3              0.0  \n",
       "4              0.0  \n",
       "5              0.0  "
      ]
     },
     "execution_count": 3,
     "metadata": {},
     "output_type": "execute_result"
    }
   ],
   "source": [
    "data = p2data.loc[p2data.PreventiveFlag.notnull()]\n",
    "# data = data.sample(frac=0.05)\n",
    "\n",
    "print(data.shape)\n",
    "data.head()"
   ]
  },
  {
   "cell_type": "markdown",
   "metadata": {},
   "source": [
    "### EDA"
   ]
  },
  {
   "cell_type": "code",
   "execution_count": 7,
   "metadata": {},
   "outputs": [],
   "source": [
    "from nltk.probability import FreqDist\n",
    "# words_counts = FreqDist(words) #to get the size of vocabulary"
   ]
  },
  {
   "cell_type": "code",
   "execution_count": null,
   "metadata": {},
   "outputs": [],
   "source": [
    "# Stemming or Lemmatization?\n",
    "stemmer = PorterStemmer()\n",
    "data['ItemDescription'] = data.ItemDescription.apply(lambda text: \" \".join([stemmer.stem(word) for word in text.split()]))\n",
    "data['Diagnosis'] = data.Diagnosis.apply(lambda text: \" \".join([stemmer.stem(word) for word in text.split()]))\n",
    "\n",
    "lemmer = WordNetLemmatizer()\n",
    "# data['ItemDescription'] = data.ItemDescription.apply(lambda text: \" \".join([lemmer.lemmatize(word, pos=\"v\") for word in text.split()]))\n",
    "# data['Diagnosis'] = data.Diagnosis.apply(lambda text: \" \".join([lemmer.lemmatize(word, pos=\"v\") for word in text.split()]))\n",
    "data.head()\n",
    "# # Remove stopwords in diagnosis... maybe"
   ]
  },
  {
   "cell_type": "markdown",
   "metadata": {},
   "source": [
    "### Preprocessing"
   ]
  },
  {
   "cell_type": "code",
   "execution_count": 8,
   "metadata": {},
   "outputs": [
    {
     "name": "stdout",
     "output_type": "stream",
     "text": [
      "[nltk_data] Downloading package wordnet to /Users/iZbra1/nltk_data...\n",
      "[nltk_data]   Package wordnet is already up-to-date!\n"
     ]
    },
    {
     "data": {
      "text/plain": [
       "True"
      ]
     },
     "execution_count": 8,
     "metadata": {},
     "output_type": "execute_result"
    }
   ],
   "source": [
    "from nltk import sent_tokenize, word_tokenize\n",
    "from time import time\n",
    "import warnings\n",
    "warnings.filterwarnings('ignore')\n",
    "from nltk.stem.porter import PorterStemmer\n",
    "from nltk.stem import WordNetLemmatizer\n",
    "from sklearn.feature_extraction.text import CountVectorizer\n",
    "from sklearn.feature_extraction.text import TfidfTransformer\n",
    "from sklearn.feature_extraction.text import TfidfVectorizer\n",
    "from sklearn.model_selection import cross_val_predict, cross_val_score\n",
    "from sklearn.metrics import roc_curve, roc_auc_score, precision_recall_curve, \\\n",
    "                            mean_squared_error, accuracy_score, f1_score, \\\n",
    "                            precision_score, recall_score\n",
    "from sklearn import metrics\n",
    "from sklearn.linear_model import LogisticRegression\n",
    "from sklearn.linear_model import SGDClassifier\n",
    "from sklearn.tree import DecisionTreeClassifier\n",
    "from sklearn.pipeline import Pipeline\n",
    "from sklearn.ensemble import VotingClassifier\n",
    "nltk.download('wordnet')"
   ]
  },
  {
   "cell_type": "code",
   "execution_count": 517,
   "metadata": {},
   "outputs": [],
   "source": [
    "from random import shuffle\n",
    "\n",
    "def get_3_sets(n, pr):\n",
    "    '''Function that receives an integer and a list with 2 floats\n",
    "        Returns the intervals of 3 sections of a list of size n \n",
    "        Those sections have a ratio specified by pr\n",
    "    '''\n",
    "    bucket = [i for i in range(n)]\n",
    "    shuffle(bucket)\n",
    "    n = len(bucket)\n",
    "    h1_size = int(n*pr[0])\n",
    "    h2_size = int(n*pr[1])\n",
    "    h3_size = h1_size+h2_size\n",
    "    # print(h1_size,h2_size,h3_size)\n",
    "    m1 = bucket[:h1_size]\n",
    "    m2 = bucket[h1_size:h3_size]\n",
    "    m3 = bucket[h3_size:]\n",
    "#     print(len(m1),len(m2),len(m3),sep='\\n')\n",
    "# print(m1,m2,m3,sep='\\n')\n",
    "    return [m1,m2,m3]\n",
    "\n",
    "def preprocessing(df):\n",
    "    \n",
    "    # Remove punctuation\n",
    "#     df['ItemDescription'] = df.ItemDescription.apply(remove_punctuation2)\n",
    "#     df['Diagnosis'] = df.Diagnosis.apply(remove_punctuation1)\n",
    "    \n",
    "    # Stemming\n",
    "    stemmer = PorterStemmer()\n",
    "    df['ItemDescription'] = df.ItemDescription.apply(lambda text: \" \".join([stemmer.stem(word) for word in text.split()]))\n",
    "    df['Diagnosis'] = df.Diagnosis.apply(lambda text: \" \".join([stemmer.stem(word) for word in text.split()]))\n",
    "    \n",
    "    return df.ItemDescription.values + \" \" + df.Diagnosis.values\n",
    "    \n",
    "def vectorize(train, corpus_all, vectorizer_count, vectorizer_tf, n):\n",
    "    \n",
    "    if train:\n",
    "        analyzer = CountVectorizer(stop_words='english', token_pattern='[a-zA-Z]{2,}').build_analyzer()  # Added\n",
    "        vectorizer_count = CountVectorizer(ngram_range=(1,n))\n",
    "        one_hot = vectorizer_count.fit_transform(corpus_all)\n",
    "    else: \n",
    "        vectorizer_count._validate_vocabulary()\n",
    "        one_hot = vectorizer_count.transform(corpus_all)\n",
    "    \n",
    "\n",
    "    # TFIDF\n",
    "    # Term frequency: this summarizes how often a given word appears within a document\n",
    "    # Inverse document frequency: This downscales words that appear a lot across documents\n",
    "    # Transforming the matrix based on the learnt frequencies or weights\n",
    "    # vectorizer_tf.idf_\n",
    "    \n",
    "    if train:\n",
    "        vectorizer_tf = TfidfTransformer()\n",
    "        freq = vectorizer_tf.fit_transform(one_hot)\n",
    "    else: \n",
    "        freq = vectorizer_tf.transform(one_hot)\n",
    "    \n",
    "    return freq.toarray(), vectorizer_count, vectorizer_tf\n",
    "\n",
    "def resample_datasets(X_train, y_train, resample_ratio=[0.1,0.3]):\n",
    "\n",
    "    '''Divide the train set of the abundant class in 3 parts with different ratios '''\n",
    "    \n",
    "    # Due to imbalanced dataset: Ensemble different resampled datasets: \n",
    "    # Get the instance of the minority class and majority class\n",
    "\n",
    "    min_x_train = X_train[(y_train == 1)]\n",
    "    maj_x_train = X_train[(y_train == 0)]\n",
    "\n",
    "    # print(maj_x_train.shape, min_x_train.shape)\n",
    "\n",
    "    # 0.07% of the # of samples of class 0 ~ about the same as the # of samples of class 1  \n",
    "    m = get_3_sets(len(maj_x_train), resample_ratio)\n",
    "\n",
    "    X_train1 = np.concatenate((maj_x_train[m[0]],min_x_train))\n",
    "    y_train1 = np.concatenate((y_train[m[0]],y_train[(y_train == 1)]))\n",
    "    X_train2 = np.concatenate((maj_x_train[m[1]],min_x_train))\n",
    "    y_train2 = np.concatenate((y_train[m[1]],y_train[(y_train == 1)]))\n",
    "    X_train3 = np.concatenate((maj_x_train[m[2]],min_x_train))\n",
    "    y_train3 = np.concatenate((y_train[m[2]],y_train[(y_train == 1)]))\n",
    "\n",
    "#     print(X_train1.shape,X_train2.shape,X_train3.shape)\n",
    "#     print(len(X_train1)+len(X_train2)+len(X_train3),len(maj_x_train)+3*len(min_x_train))\n",
    "\n",
    "    X_dico = {'1':X_train1, '2':X_train2, '3':X_train3}\n",
    "    y_dico = {'1':y_train1, '2':y_train2, '3':y_train3}\n",
    "    \n",
    "    return X_dico, y_dico\n",
    "\n",
    "\n",
    "\n",
    "def train_and_eval(Xtr, ytr, X_val):\n",
    "#     start = time()\n",
    "\n",
    "    clf_1 = LogisticRegression(random_state=42).fit(Xtr[\"1\"], ytr[\"1\"]) # ~11s\n",
    "    clf_2 = DecisionTreeClassifier(max_depth=2, random_state=42).fit(Xtr[\"2\"], ytr[\"2\"]) # ~ 40s\n",
    "    clf_3 = SGDClassifier(random_state=42).fit(Xtr[\"3\"], ytr[\"3\"])  # ~ 13s\n",
    "\n",
    "\n",
    "    # print(time()-start)\n",
    "\n",
    "    # start = time()\n",
    "    \n",
    "    y_val_pred_1 = clf_1.predict(X_val)\n",
    "    y_val_pred_2 = clf_2.predict(X_val)\n",
    "    y_val_pred_3 = clf_3.predict(X_val)\n",
    "    \n",
    "    y_val_pred = {'1':y_val_pred_1, '2':y_val_pred_2, '3':y_val_pred_3}\n",
    "    \n",
    "    \n",
    "    # These predictions can then be used to evaluate the classifier:\n",
    "    \n",
    "    y_train_pred_1 = cross_val_predict(clf_1, Xtr[\"1\"], ytr[\"1\"], cv=10)\n",
    "    y_train_pred_2 = cross_val_predict(clf_2, Xtr[\"2\"], ytr[\"2\"], cv=10)\n",
    "    y_train_pred_3 = cross_val_predict(clf_3, Xtr[\"3\"], ytr[\"3\"], cv=10)\n",
    "\n",
    "    y_tr_pred = {'1':y_train_pred_1, '2':y_train_pred_2, '3':y_train_pred_3}\n",
    "#     print(time()-start)\n",
    "\n",
    "    \n",
    "    return y_tr_pred, y_val_pred\n",
    "\n",
    "\n",
    "def get_results(ytr, ytr_pred, yval_pred, y_val):\n",
    "    res = get_metrics(pd.DataFrame(), ytr[\"1\"], ytr_pred[\"1\"], 'Training1')\n",
    "    res = get_metrics(res, y_val, yval_pred[\"1\"], 'Validation1')\n",
    "    res = get_metrics(res, ytr[\"2\"], ytr_pred[\"2\"], 'Training2')\n",
    "    res = get_metrics(res, y_val, yval_pred[\"2\"], 'Validation2')\n",
    "    res = get_metrics(res, ytr[\"3\"], ytr_pred[\"3\"], 'Training3')\n",
    "    res = get_metrics(res, y_val, yval_pred[\"3\"], 'Validation3')\n",
    "    res.reset_index(inplace=True)\n",
    "    res.columns = ['Phase','AUC','F1_C0','F1_C1','MSE','Prec_C0','Prec_C1','Recal_C0','Recal_C1']\n",
    "    \n",
    "    return res.loc[res.Phase.str.startswith('Validation'),['Phase','AUC','F1_C1']]\n",
    "\n",
    "def get_metrics(df, y, yp, ind_name):\n",
    "# Evaluation Metrics:\n",
    "\n",
    "    d_roc = round(roc_auc_score(y, yp),3)\n",
    "    d_mse = round(mean_squared_error(y, yp),3)\n",
    "    d_prec = precision_score(y, yp, average=None)\n",
    "    d_recl = recall_score(y, yp, average=None)\n",
    "    d_f1 = f1_score(y, yp, average=None)\n",
    "#     d_report = metrics.classification_report(y, yp, target_names=['class 0', 'class 1'])\n",
    "\n",
    "\n",
    "    return pd.concat([df, pd.DataFrame({\n",
    "                            'Prec_C0':round(d_prec[0],3),\n",
    "                            'Prec_C1':round(d_prec[1],3),\n",
    "                            'Recal_C0':round(d_recl[0],3),\n",
    "                            'Recal_C1':round(d_recl[1],3),\n",
    "                            'F1_C0':round(d_f1[0],3),\n",
    "                            'F1_C1':round(d_f1[1],3),\n",
    "                            'AUC':d_roc, \n",
    "                            'MSE':d_mse}, index=[ind_name])])"
   ]
  },
  {
   "cell_type": "code",
   "execution_count": 10,
   "metadata": {},
   "outputs": [],
   "source": [
    "from sklearn import metrics\n",
    "from sklearn.dummy import DummyClassifier\n",
    "from sklearn.linear_model import LogisticRegression\n",
    "from sklearn.naive_bayes import MultinomialNB\n",
    "from sklearn.linear_model import SGDClassifier\n",
    "from sklearn.tree import DecisionTreeClassifier"
   ]
  },
  {
   "cell_type": "code",
   "execution_count": 261,
   "metadata": {
    "scrolled": true
   },
   "outputs": [
    {
     "name": "stdout",
     "output_type": "stream",
     "text": [
      "(10000, 3) (1000, 3)\n"
     ]
    }
   ],
   "source": [
    "test = p2data.loc[p2data.PreventiveFlag.isnull()]\n",
    "data = p2data.loc[p2data.PreventiveFlag.notnull()]\n",
    "\n",
    "print(data.shape, test.shape)"
   ]
  },
  {
   "cell_type": "code",
   "execution_count": 166,
   "metadata": {},
   "outputs": [
    {
     "name": "stdout",
     "output_type": "stream",
     "text": [
      "Data size (10000, 4) \n",
      " 0.0678 Label 1 (678) vs 0.9322 Label 0(9322)\n"
     ]
    }
   ],
   "source": [
    "# Is the data balanced? \n",
    "label_true = data.PreventiveFlag.value_counts()[1]\n",
    "label_false = data.PreventiveFlag.value_counts()[0]\n",
    "print(\"Data size {} \\n {} Label 1 ({}) vs {} Label 0({})\".format(\n",
    "                                             str(data.shape),\n",
    "                                             str(label_true/(label_false+label_true)),\n",
    "                                             str(label_true), \n",
    "                                             str(label_false/(label_false+label_true)),\n",
    "                                             str(label_false)))\n",
    "\n",
    "# data = data.sample(frac=0.005)\n"
   ]
  },
  {
   "cell_type": "code",
   "execution_count": 201,
   "metadata": {},
   "outputs": [],
   "source": [
    "## --- Variables\n",
    "from sklearn.model_selection import train_test_split\n",
    "\n",
    "train_val_ratio = 0.3\n",
    "ng = 1   # N-grams\n",
    "seed = 0\n",
    "# np.random.seed(seed)\n"
   ]
  },
  {
   "cell_type": "code",
   "execution_count": 506,
   "metadata": {
    "scrolled": true
   },
   "outputs": [
    {
     "name": "stdout",
     "output_type": "stream",
     "text": [
      "(7000, 5801) (7000,) (3000, 5801) (3000,)\n"
     ]
    }
   ],
   "source": [
    "## --- Preprocessing: < 10s\n",
    "# Stemming, maybe removing the name of pet??\n",
    "# Val and train hold about the same ratio of imbalance. \n",
    "\n",
    "data_features = preprocessing(data)\n",
    "\n",
    "# Splitting into validation and training sets:\n",
    "\n",
    "train, validation, y_train, y_val = train_test_split(data_features, data.PreventiveFlag.values, test_size=train_val_ratio, random_state=42)\n",
    "\n",
    "# Vectorizing with CountVectorizer and TFIDFVectorizer:\n",
    "\n",
    "X_train, vc, vt = vectorize(True, train, False, False, ng)\n",
    "X_val, vc, vt = vectorize(False, validation, vc, vt, ng)\n",
    "\n",
    "print(X_train.shape, y_train.shape, X_val.shape, y_val.shape)\n",
    "\n",
    "\n"
   ]
  },
  {
   "cell_type": "code",
   "execution_count": 508,
   "metadata": {
    "scrolled": true
   },
   "outputs": [],
   "source": [
    "results = pd.DataFrame()\n",
    "sample_ratios = []\n",
    "train1_size = np.linspace(0.07, 0.4, num=10)\n",
    "train2_size = np.linspace(0.1, 0.5, num=10)\n",
    "rs = []\n",
    "sample_ratios = [[t1,t2] for t1 in train1_size for t2 in train2_size]\n"
   ]
  },
  {
   "cell_type": "code",
   "execution_count": 520,
   "metadata": {},
   "outputs": [
    {
     "name": "stdout",
     "output_type": "stream",
     "text": [
      "1210.8866651058197\n"
     ]
    },
    {
     "data": {
      "text/html": [
       "<div>\n",
       "<style scoped>\n",
       "    .dataframe tbody tr th:only-of-type {\n",
       "        vertical-align: middle;\n",
       "    }\n",
       "\n",
       "    .dataframe tbody tr th {\n",
       "        vertical-align: top;\n",
       "    }\n",
       "\n",
       "    .dataframe thead th {\n",
       "        text-align: right;\n",
       "    }\n",
       "</style>\n",
       "<table border=\"1\" class=\"dataframe\">\n",
       "  <thead>\n",
       "    <tr style=\"text-align: right;\">\n",
       "      <th></th>\n",
       "      <th>Ratio</th>\n",
       "      <th>AUC_1</th>\n",
       "      <th>AUC_2</th>\n",
       "      <th>AUC_3</th>\n",
       "      <th>F1_C1_1</th>\n",
       "      <th>F1_C1_2</th>\n",
       "      <th>F1_C1_3</th>\n",
       "    </tr>\n",
       "  </thead>\n",
       "  <tbody>\n",
       "    <tr>\n",
       "      <th>0</th>\n",
       "      <td>0.07:0.1</td>\n",
       "      <td>0.917</td>\n",
       "      <td>0.664</td>\n",
       "      <td>0.870</td>\n",
       "      <td>0.634</td>\n",
       "      <td>0.461</td>\n",
       "      <td>0.773</td>\n",
       "    </tr>\n",
       "    <tr>\n",
       "      <th>1</th>\n",
       "      <td>0.07:0.14444444444444446</td>\n",
       "      <td>0.911</td>\n",
       "      <td>0.663</td>\n",
       "      <td>0.832</td>\n",
       "      <td>0.645</td>\n",
       "      <td>0.456</td>\n",
       "      <td>0.755</td>\n",
       "    </tr>\n",
       "    <tr>\n",
       "      <th>2</th>\n",
       "      <td>0.07:0.18888888888888888</td>\n",
       "      <td>0.910</td>\n",
       "      <td>0.664</td>\n",
       "      <td>0.888</td>\n",
       "      <td>0.608</td>\n",
       "      <td>0.461</td>\n",
       "      <td>0.792</td>\n",
       "    </tr>\n",
       "    <tr>\n",
       "      <th>3</th>\n",
       "      <td>0.07:0.23333333333333334</td>\n",
       "      <td>0.903</td>\n",
       "      <td>0.664</td>\n",
       "      <td>0.893</td>\n",
       "      <td>0.655</td>\n",
       "      <td>0.463</td>\n",
       "      <td>0.780</td>\n",
       "    </tr>\n",
       "    <tr>\n",
       "      <th>4</th>\n",
       "      <td>0.07:0.2777777777777778</td>\n",
       "      <td>0.904</td>\n",
       "      <td>0.664</td>\n",
       "      <td>0.865</td>\n",
       "      <td>0.578</td>\n",
       "      <td>0.465</td>\n",
       "      <td>0.768</td>\n",
       "    </tr>\n",
       "  </tbody>\n",
       "</table>\n",
       "</div>"
      ],
      "text/plain": [
       "                      Ratio  AUC_1  AUC_2  AUC_3  F1_C1_1  F1_C1_2  F1_C1_3\n",
       "0                  0.07:0.1  0.917  0.664  0.870    0.634    0.461    0.773\n",
       "1  0.07:0.14444444444444446  0.911  0.663  0.832    0.645    0.456    0.755\n",
       "2  0.07:0.18888888888888888  0.910  0.664  0.888    0.608    0.461    0.792\n",
       "3  0.07:0.23333333333333334  0.903  0.664  0.893    0.655    0.463    0.780\n",
       "4   0.07:0.2777777777777778  0.904  0.664  0.865    0.578    0.465    0.768"
      ]
     },
     "execution_count": 520,
     "metadata": {},
     "output_type": "execute_result"
    }
   ],
   "source": [
    "start = time() # 1210 s\n",
    "for rs in sample_ratios:\n",
    "\n",
    "    Xtr, ytr = resample_datasets(X_train, y_train, rs)    \n",
    "\n",
    "    ### Training and Evaluation: \n",
    "\n",
    "    ytr_pred, yval_pred = train_and_eval(Xtr, ytr, X_val)\n",
    "    df = get_results(ytr, ytr_pred, yval_pred, y_val)    \n",
    "    \n",
    "    df['Ratio'] = str(rs[0])+\":\"+str(rs[1])\n",
    "    df = df.pivot(index=\"Ratio\", columns='Phase')\n",
    "    df.columns = ['AUC_1','AUC_2','AUC_3','F1_C1_1','F1_C1_2','F1_C1_3']\n",
    "    results = pd.concat([results, df])\n",
    "    \n",
    "results.reset_index(inplace=True)\n",
    "results.reset_index(inplace=True)\n",
    "results.rename(columns={'index':'x'}, inplace=True)\n",
    "print(time()-start)\n",
    "results.head()\n"
   ]
  },
  {
   "cell_type": "code",
   "execution_count": 569,
   "metadata": {
    "scrolled": true
   },
   "outputs": [
    {
     "data": {
      "image/png": "[encoded data removed]",
      "text/plain": [
       "<matplotlib.figure.Figure at 0x1a711a1588>"
      ]
     },
     "metadata": {},
     "output_type": "display_data"
    }
   ],
   "source": [
    "f, axarr = plt.subplots(1,2,figsize=(20,4))\n",
    "\n",
    "y = results.loc[:,results.columns.str.startswith('AUC')].values.T\n",
    "x=range(100)\n",
    "l = results.columns[results.columns.str.startswith('AUC')].values\n",
    "axarr[0].stackplot(x,y, labels=l)\n",
    "axarr[0].legend(loc='lower left')\n",
    "axarr[0].set_title('AUC')\n",
    "\n",
    "y = results.loc[:,results.columns.str.startswith('F1')].values.T\n",
    "x=range(100)\n",
    "l = results.columns[results.columns.str.startswith('F1')].values\n",
    "axarr[1].stackplot(x,y, labels=l)\n",
    "axarr[1].legend(loc='lower left')\n",
    "axarr[1].set_title('F1 score for Class 1')\n",
    "\n",
    "plt.show()\n",
    "fig.savefig('trainingRatioOptimization.png', dpi=fig.dpi)"
   ]
  },
  {
   "cell_type": "code",
   "execution_count": 602,
   "metadata": {},
   "outputs": [],
   "source": [
    "# Get the ratio that maximizes AUC and F1_C1 on the 3 models\n",
    "results['max_auc'] = results.apply(lambda row: row.AUC_1+row.AUC_2+row.AUC_3, axis=1)\n",
    "results['max_f1_c1'] = results.apply(lambda row: row.F1_C1_1+row.F1_C1_2+row.F1_C1_3, axis=1)\n",
    "results['ratio_1'] = results.Ratio.apply(lambda x: round(float(x.split(\":\")[0]),3))\n",
    "results['ratio_2'] = results.Ratio.apply(lambda x: round(float(x.split(\":\")[1]),3))\n",
    "# results.drop('Ratio', axis=1, inplace=True\n",
    "max_auc = results.loc[:,[\"max_auc\",\"max_f1_c1\",\"ratio_1\",\"ratio_2\"]].sort_values([\"max_auc\",\"max_f1_c1\"], ascending=False).reset_index()\n",
    "max_f1 = results.loc[:,[\"max_auc\",\"max_f1_c1\",\"ratio_1\",\"ratio_2\"]].sort_values([\"max_f1_c1\",\"max_auc\"], ascending=False).reset_index()\n"
   ]
  },
  {
   "cell_type": "code",
   "execution_count": 603,
   "metadata": {},
   "outputs": [
    {
     "data": {
      "text/html": [
       "<div>\n",
       "<style scoped>\n",
       "    .dataframe tbody tr th:only-of-type {\n",
       "        vertical-align: middle;\n",
       "    }\n",
       "\n",
       "    .dataframe tbody tr th {\n",
       "        vertical-align: top;\n",
       "    }\n",
       "\n",
       "    .dataframe thead th {\n",
       "        text-align: right;\n",
       "    }\n",
       "</style>\n",
       "<table border=\"1\" class=\"dataframe\">\n",
       "  <thead>\n",
       "    <tr style=\"text-align: right;\">\n",
       "      <th></th>\n",
       "      <th>index</th>\n",
       "      <th>max_auc</th>\n",
       "      <th>max_f1_c1</th>\n",
       "      <th>ratio_1</th>\n",
       "      <th>ratio_2</th>\n",
       "    </tr>\n",
       "  </thead>\n",
       "  <tbody>\n",
       "    <tr>\n",
       "      <th>0</th>\n",
       "      <td>11</td>\n",
       "      <td>2.473</td>\n",
       "      <td>1.891</td>\n",
       "      <td>0.107</td>\n",
       "      <td>0.144</td>\n",
       "    </tr>\n",
       "    <tr>\n",
       "      <th>1</th>\n",
       "      <td>2</td>\n",
       "      <td>2.462</td>\n",
       "      <td>1.861</td>\n",
       "      <td>0.070</td>\n",
       "      <td>0.189</td>\n",
       "    </tr>\n",
       "    <tr>\n",
       "      <th>2</th>\n",
       "      <td>3</td>\n",
       "      <td>2.460</td>\n",
       "      <td>1.898</td>\n",
       "      <td>0.070</td>\n",
       "      <td>0.233</td>\n",
       "    </tr>\n",
       "    <tr>\n",
       "      <th>3</th>\n",
       "      <td>8</td>\n",
       "      <td>2.459</td>\n",
       "      <td>1.858</td>\n",
       "      <td>0.070</td>\n",
       "      <td>0.456</td>\n",
       "    </tr>\n",
       "    <tr>\n",
       "      <th>4</th>\n",
       "      <td>18</td>\n",
       "      <td>2.457</td>\n",
       "      <td>1.975</td>\n",
       "      <td>0.107</td>\n",
       "      <td>0.456</td>\n",
       "    </tr>\n",
       "  </tbody>\n",
       "</table>\n",
       "</div>"
      ],
      "text/plain": [
       "   index  max_auc  max_f1_c1  ratio_1  ratio_2\n",
       "0     11    2.473      1.891    0.107    0.144\n",
       "1      2    2.462      1.861    0.070    0.189\n",
       "2      3    2.460      1.898    0.070    0.233\n",
       "3      8    2.459      1.858    0.070    0.456\n",
       "4     18    2.457      1.975    0.107    0.456"
      ]
     },
     "execution_count": 603,
     "metadata": {},
     "output_type": "execute_result"
    }
   ],
   "source": [
    "max_auc.head()"
   ]
  },
  {
   "cell_type": "code",
   "execution_count": 604,
   "metadata": {},
   "outputs": [],
   "source": [
    "max_auc.drop(['index','max_auc','max_f1_c1'], axis=1, inplace=True)\n",
    "max_auc_perc = max_auc.divide(max_auc.sum(axis=1), axis=0)\n",
    "max_auc.reset_index(inplace=True)\n",
    "max_f1.drop(['index','max_auc','max_f1_c1'], axis=1, inplace=True)\n",
    "max_f1_perc = max_f1.divide(max_f1.sum(axis=1), axis=0)\n",
    "max_f1.reset_index(inplace=True)"
   ]
  },
  {
   "cell_type": "code",
   "execution_count": 610,
   "metadata": {},
   "outputs": [
    {
     "data": {
      "image/png": "[encoded data removed]",
      "text/plain": [
       "<matplotlib.figure.Figure at 0x1a1fe41ac8>"
      ]
     },
     "metadata": {},
     "output_type": "display_data"
    }
   ],
   "source": [
    "f, axarr = plt.subplots(1,2,figsize=(20,4))\n",
    "\n",
    "# y = max_auc.loc[:,[\"ratio_1\",\"ratio_2\"]].values.T\n",
    "x=range(100)\n",
    "l = [\"ratio_1\",\"ratio_2\"]\n",
    "# axarr[0].stackplot(x,y, labels=l)\n",
    "axarr[0].stackplot(x,  max_auc_perc[\"ratio_1\"],  max_auc_perc[\"ratio_2\"], labels=l)\n",
    "axarr[0].legend(loc='upper left')\n",
    "axarr[0].set_title('AUC')\n",
    "\n",
    "# y = max_f1.loc[:,[\"ratio_1\",\"ratio_2\"]].values.T\n",
    "x=range(100)\n",
    "l = [\"ratio_1\",\"ratio_2\"]\n",
    "# axarr[1].stackplot(x,y, labels=l)\n",
    "axarr[1].stackplot(x,  max_f1_perc[\"ratio_1\"],  max_f1_perc[\"ratio_2\"], labels=l)\n",
    "axarr[1].legend(loc='upper left')\n",
    "axarr[1].set_title('F1 score for Class 1')\n",
    "\n",
    "plt.show()\n",
    "fig.savefig('trainingRatioOptimization2.png', dpi=fig.dpi)"
   ]
  },
  {
   "cell_type": "code",
   "execution_count": 613,
   "metadata": {},
   "outputs": [
    {
     "data": {
      "text/html": [
       "<div>\n",
       "<style scoped>\n",
       "    .dataframe tbody tr th:only-of-type {\n",
       "        vertical-align: middle;\n",
       "    }\n",
       "\n",
       "    .dataframe tbody tr th {\n",
       "        vertical-align: top;\n",
       "    }\n",
       "\n",
       "    .dataframe thead th {\n",
       "        text-align: right;\n",
       "    }\n",
       "</style>\n",
       "<table border=\"1\" class=\"dataframe\">\n",
       "  <thead>\n",
       "    <tr style=\"text-align: right;\">\n",
       "      <th></th>\n",
       "      <th>x</th>\n",
       "      <th>Ratio</th>\n",
       "      <th>AUC_1</th>\n",
       "      <th>AUC_2</th>\n",
       "      <th>AUC_3</th>\n",
       "      <th>F1_C1_1</th>\n",
       "      <th>F1_C1_2</th>\n",
       "      <th>F1_C1_3</th>\n",
       "      <th>max_auc</th>\n",
       "      <th>max_f1_c1</th>\n",
       "      <th>ratio_1</th>\n",
       "      <th>ratio_2</th>\n",
       "    </tr>\n",
       "  </thead>\n",
       "  <tbody>\n",
       "    <tr>\n",
       "      <th>20</th>\n",
       "      <td>20</td>\n",
       "      <td>0.14333333333333334:0.1</td>\n",
       "      <td>0.880</td>\n",
       "      <td>0.664</td>\n",
       "      <td>0.891</td>\n",
       "      <td>0.751</td>\n",
       "      <td>0.465</td>\n",
       "      <td>0.783</td>\n",
       "      <td>2.435</td>\n",
       "      <td>1.999</td>\n",
       "      <td>0.143</td>\n",
       "      <td>0.100</td>\n",
       "    </tr>\n",
       "    <tr>\n",
       "      <th>34</th>\n",
       "      <td>34</td>\n",
       "      <td>0.18:0.2777777777777778</td>\n",
       "      <td>0.858</td>\n",
       "      <td>0.664</td>\n",
       "      <td>0.887</td>\n",
       "      <td>0.754</td>\n",
       "      <td>0.463</td>\n",
       "      <td>0.766</td>\n",
       "      <td>2.409</td>\n",
       "      <td>1.983</td>\n",
       "      <td>0.180</td>\n",
       "      <td>0.278</td>\n",
       "    </tr>\n",
       "    <tr>\n",
       "      <th>24</th>\n",
       "      <td>24</td>\n",
       "      <td>0.14333333333333334:0.2777777777777778</td>\n",
       "      <td>0.879</td>\n",
       "      <td>0.664</td>\n",
       "      <td>0.865</td>\n",
       "      <td>0.749</td>\n",
       "      <td>0.463</td>\n",
       "      <td>0.768</td>\n",
       "      <td>2.408</td>\n",
       "      <td>1.980</td>\n",
       "      <td>0.143</td>\n",
       "      <td>0.278</td>\n",
       "    </tr>\n",
       "    <tr>\n",
       "      <th>13</th>\n",
       "      <td>13</td>\n",
       "      <td>0.10666666666666667:0.23333333333333334</td>\n",
       "      <td>0.902</td>\n",
       "      <td>0.664</td>\n",
       "      <td>0.852</td>\n",
       "      <td>0.739</td>\n",
       "      <td>0.463</td>\n",
       "      <td>0.776</td>\n",
       "      <td>2.418</td>\n",
       "      <td>1.978</td>\n",
       "      <td>0.107</td>\n",
       "      <td>0.233</td>\n",
       "    </tr>\n",
       "    <tr>\n",
       "      <th>50</th>\n",
       "      <td>50</td>\n",
       "      <td>0.25333333333333335:0.1</td>\n",
       "      <td>0.831</td>\n",
       "      <td>0.664</td>\n",
       "      <td>0.856</td>\n",
       "      <td>0.732</td>\n",
       "      <td>0.461</td>\n",
       "      <td>0.784</td>\n",
       "      <td>2.351</td>\n",
       "      <td>1.977</td>\n",
       "      <td>0.253</td>\n",
       "      <td>0.100</td>\n",
       "    </tr>\n",
       "  </tbody>\n",
       "</table>\n",
       "</div>"
      ],
      "text/plain": [
       "     x                                    Ratio  AUC_1  AUC_2  AUC_3  F1_C1_1  \\\n",
       "20  20                  0.14333333333333334:0.1  0.880  0.664  0.891    0.751   \n",
       "34  34                  0.18:0.2777777777777778  0.858  0.664  0.887    0.754   \n",
       "24  24   0.14333333333333334:0.2777777777777778  0.879  0.664  0.865    0.749   \n",
       "13  13  0.10666666666666667:0.23333333333333334  0.902  0.664  0.852    0.739   \n",
       "50  50                  0.25333333333333335:0.1  0.831  0.664  0.856    0.732   \n",
       "\n",
       "    F1_C1_2  F1_C1_3  max_auc  max_f1_c1  ratio_1  ratio_2  \n",
       "20    0.465    0.783    2.435      1.999    0.143    0.100  \n",
       "34    0.463    0.766    2.409      1.983    0.180    0.278  \n",
       "24    0.463    0.768    2.408      1.980    0.143    0.278  \n",
       "13    0.463    0.776    2.418      1.978    0.107    0.233  \n",
       "50    0.461    0.784    2.351      1.977    0.253    0.100  "
      ]
     },
     "execution_count": 613,
     "metadata": {},
     "output_type": "execute_result"
    }
   ],
   "source": [
    "results.sort_values([\"max_f1_c1\",\"max_auc\"], ascending=False).head()"
   ]
  },
  {
   "cell_type": "markdown",
   "metadata": {},
   "source": [
    "---"
   ]
  },
  {
   "cell_type": "code",
   "execution_count": 20,
   "metadata": {},
   "outputs": [],
   "source": [
    "# Optimal classifiers. \n",
    "clf1 = DecisionTreeClassifier(max_depth=2, max_leaf_nodes=42, min_samples_split=2, random_state=42)\n",
    "clf2 = SGDClassifier(learning_rate='optimal', loss='log', max_iter=4, penalty='l1', random_state=42)\n",
    "clf3 = LogisticRegression(class_weight='balanced', random_state=42)\n",
    "\n",
    "clfs = [\n",
    "    (\"DecTree\", clf1),\n",
    "    (\"SVMwithSGD\", clf2),\n",
    "    (\"LogReg\", clf3)\n",
    "]\n",
    "\n",
    "\n",
    "mixed_pipe = Pipeline([\n",
    "    (\"voting\", VotingClassifier(clfs, voting=\"soft\"))\n",
    "])"
   ]
  },
  {
   "cell_type": "code",
   "execution_count": null,
   "metadata": {
    "scrolled": true
   },
   "outputs": [],
   "source": [
    "start = time()\n",
    "\n",
    "mixed_pipe.fit(X_train, y_train)\n",
    "y_val_pred = mixed_pipe.predict(X_val)\n",
    "\n",
    "# These predictions can then be used to evaluate the classifier:\n",
    "\n",
    "# y_train_scores = cross_val_score(mixed_pipe, X_train, y_train, cv=10)\n",
    "y_train_pred = cross_val_predict(mixed_pipe, X_train, y_train, cv=10)\n",
    "\n",
    "print(time()-start)"
   ]
  },
  {
   "cell_type": "code",
   "execution_count": 102,
   "metadata": {},
   "outputs": [
    {
     "data": {
      "text/html": [
       "<div>\n",
       "<style scoped>\n",
       "    .dataframe tbody tr th:only-of-type {\n",
       "        vertical-align: middle;\n",
       "    }\n",
       "\n",
       "    .dataframe tbody tr th {\n",
       "        vertical-align: top;\n",
       "    }\n",
       "\n",
       "    .dataframe thead th {\n",
       "        text-align: right;\n",
       "    }\n",
       "</style>\n",
       "<table border=\"1\" class=\"dataframe\">\n",
       "  <thead>\n",
       "    <tr style=\"text-align: right;\">\n",
       "      <th></th>\n",
       "      <th>AUC</th>\n",
       "      <th>Acc</th>\n",
       "      <th>F1_C0</th>\n",
       "      <th>F1_C1</th>\n",
       "      <th>MSE</th>\n",
       "      <th>Prec_C0</th>\n",
       "      <th>Prec_C1</th>\n",
       "      <th>Recal_C0</th>\n",
       "      <th>Recal_C1</th>\n",
       "    </tr>\n",
       "  </thead>\n",
       "  <tbody>\n",
       "    <tr>\n",
       "      <th>Training</th>\n",
       "      <td>0.784</td>\n",
       "      <td>0.964</td>\n",
       "      <td>0.981</td>\n",
       "      <td>0.684</td>\n",
       "      <td>0.036</td>\n",
       "      <td>0.97</td>\n",
       "      <td>0.844</td>\n",
       "      <td>0.992</td>\n",
       "      <td>0.575</td>\n",
       "    </tr>\n",
       "    <tr>\n",
       "      <th>Validation</th>\n",
       "      <td>0.779</td>\n",
       "      <td>0.963</td>\n",
       "      <td>0.981</td>\n",
       "      <td>0.673</td>\n",
       "      <td>0.037</td>\n",
       "      <td>0.97</td>\n",
       "      <td>0.826</td>\n",
       "      <td>0.991</td>\n",
       "      <td>0.567</td>\n",
       "    </tr>\n",
       "  </tbody>\n",
       "</table>\n",
       "</div>"
      ],
      "text/plain": [
       "              AUC    Acc  F1_C0  F1_C1    MSE  Prec_C0  Prec_C1  Recal_C0  \\\n",
       "Training    0.784  0.964  0.981  0.684  0.036     0.97    0.844     0.992   \n",
       "Validation  0.779  0.963  0.981  0.673  0.037     0.97    0.826     0.991   \n",
       "\n",
       "            Recal_C1  \n",
       "Training       0.575  \n",
       "Validation     0.567  "
      ]
     },
     "execution_count": 102,
     "metadata": {},
     "output_type": "execute_result"
    }
   ],
   "source": [
    "res = get_metrics(pd.DataFrame(), y_train, y_train_pred, 'Training')\n",
    "res = get_metrics(res, y_val, y_val_pred, 'Validation')\n",
    "res"
   ]
  },
  {
   "cell_type": "code",
   "execution_count": 103,
   "metadata": {
    "scrolled": true
   },
   "outputs": [
    {
     "data": {
      "image/png": "[encoded data removed]",
      "text/plain": [
       "<matplotlib.figure.Figure at 0x1a1d2d5198>"
      ]
     },
     "metadata": {},
     "output_type": "display_data"
    }
   ],
   "source": [
    "def plot_curves(y_train, y_train_pred):\n",
    "    # create 2 subplots (horizontally stacked)\n",
    "\n",
    "    fpr, tpr, thresholds = roc_curve(y_train, y_train_pred)\n",
    "    precision, recall, f = precision_recall_curve(y_train, y_train_pred)\n",
    "\n",
    "    fig, axarr = plt.subplots(1,2,figsize=(15,4))\n",
    "\n",
    "    axarr[0].plot(f, precision[:-1], \"b--\", label=\"Precision\", linewidth=2)\n",
    "    axarr[0].plot(f, recall[:-1], \"g-\", label=\"Recall\", linewidth=2)\n",
    "    axarr[0].legend(loc=\"top\", fontsize=16)\n",
    "\n",
    "    # axarr[0].xlabel(\"Threshold\", fontsize=16)\n",
    "    # axarr[0].ylim([0, 1])\n",
    "\n",
    "    axarr[1].plot(fpr, tpr, linewidth=2, label='ROC')\n",
    "    axarr[1].plot([0, 1], [0, 1], 'k--')\n",
    "    axarr[1].axis([0, 1, 0, 1])\n",
    "    axarr[1].legend(loc=\"upper left\", fontsize=16)\n",
    "\n",
    "    plt.show()\n",
    "\n",
    "plot_curves(y_val, y_val_pred)"
   ]
  },
  {
   "cell_type": "code",
   "execution_count": 106,
   "metadata": {},
   "outputs": [
    {
     "data": {
      "image/png": "[encoded data removed]",
      "text/plain": [
       "<matplotlib.figure.Figure at 0x1a19c211d0>"
      ]
     },
     "metadata": {},
     "output_type": "display_data"
    }
   ],
   "source": [
    "plt.matshow(metrics.confusion_matrix(y_val, y_val_pred), cmap=plt.cm.hot)\n",
    "plt.colorbar()\n",
    "plt.show()"
   ]
  },
  {
   "cell_type": "markdown",
   "metadata": {},
   "source": [
    "# Answer: \n",
    "- Dealing with unbalanced dataset: \n",
    "    - Even up the training set: train the model with all of the minority class instances and an almost same amount of instances of the majority class. "
   ]
  },
  {
   "cell_type": "code",
   "execution_count": 110,
   "metadata": {},
   "outputs": [],
   "source": [
    "X_test, vc, vt = vectorizer(False, preprocessing(test), vc, vt)\n",
    "y_test = test.PreventiveFlag.values"
   ]
  },
  {
   "cell_type": "code",
   "execution_count": 111,
   "metadata": {},
   "outputs": [],
   "source": [
    "y_test_pred = mixed_pipe.predict(X_test)"
   ]
  }
 ],
 "metadata": {
  "kernelspec": {
   "display_name": "Python 3",
   "language": "python",
   "name": "python3"
  },
  "language_info": {
   "codemirror_mode": {
    "name": "ipython",
    "version": 3
   },
   "file_extension": ".py",
   "mimetype": "text/x-python",
   "name": "python",
   "nbconvert_exporter": "python",
   "pygments_lexer": "ipython3",
   "version": "3.6.4"
  }
 },
 "nbformat": 4,
 "nbformat_minor": 2
}
